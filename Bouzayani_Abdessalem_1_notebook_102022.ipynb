{
 "cells": [
  {
   "cell_type": "markdown",
   "metadata": {
    "_cell_guid": "a5794485-cc8e-4c0a-8db9-dcb15ca7504e",
    "_uuid": "68567884-aa93-4c0d-bb78-a7363f1862ce"
   },
   "source": [
    "**Énoncé**\n",
    "\n",
    "Vous êtes Data Scientist dans une start-up de la EdTech, nommée academy, qui propose des contenus de formation en ligne pour un public de niveau lycée et université.\n",
    "\n",
    "Mark, votre manager, vous a convié à une réunion pour vous présenter le projet d’expansion à l’international de l’entreprise. Il vous confie une première mission d’analyse exploratoire, pour déterminer si les données sur l’éducation de la banque mondiale permettent d’informer le projet d’expansion.\n",
    "\n",
    "Voici les différentes questions que Mark aimerait explorer, que vous avez notées durant la réunion :\n",
    "\n",
    "    Quels sont les pays avec un fort potentiel de clients pour nos services?\n",
    "    Pour chacun de ces pays, quelle sera l’évolution de ce potentiel de clients?\n",
    "    Dans quels pays l'entreprise doit-elle opérer en priorité?\n",
    "\n",
    "**Mission**\n",
    "\n",
    "Les données de la Banque mondiale sont disponibles à l’adresse suivante :\n",
    "\n",
    "https://datacatalog.worldbank.org/dataset/education-statistics\n",
    "\n",
    "Ou en téléchargement direct à ce [lien](https://s3-eu-west-1.amazonaws.com/static.oc-static.com/prod/courses/files/Parcours_data_scientist/Projet+-+Donn%C3%A9es+%C3%A9ducatives/Projet+Python_Dataset_Edstats_csv.zip).\n",
    "\n",
    "Je te laisse regarder la page d'accueil qui décrit le jeu de données. En résumé, l’organisme “EdStats All Indicator Query” de la Banque mondiale répertorie 4000 indicateurs internationaux décrivant l’accès à l’éducation, l’obtention de diplômes et des informations relatives aux professeurs, aux dépenses liées à l’éducation... Tu trouveras plus d'info sur ce site :\n",
    "\n",
    "http://datatopics.worldbank.org/education/\n",
    "\n",
    "Pour la pré-analyse, pourrais-tu :\n",
    "\n",
    "    Valider la qualité de ce jeu de données (comporte-t-il beaucoup de données manquantes, dupliquées?)\n",
    "    \n",
    "    Décrire les informations contenues dans le jeu de données (nombre de colonnes ? nombre de lignes?)\n",
    "    \n",
    "    Sélectionner les informations qui semblent pertinentes pour répondre à la problématique (quelles sont les colonnes contenant des informations qui peuvent être utiles pour répondre à la problématique de l’entreprise?)\n",
    "    \n",
    "    Déterminer des ordres de grandeurs des indicateurs statistiques classiques pour les différentes zones géographiques et pays du monde (moyenne/médiane/écart-type par pays et par continent ou bloc géographique)\n",
    "\n",
    "Ton travail va nous permettre de déterminer si ce jeu de données peut informer les décisions d'ouverture vers de nouveaux pays. On va partager ton analyse avec le board, alors merci de soigner la présentation et de l'illustrer avec des graphiques pertinents et lisibles !\n",
    "\n",
    "**Livrables attendus**\n",
    "\n",
    "   -  Un *notebook* comportant les analyses pré-exploratoires réalisées (non cleané, pour comprendre votre démarche).\n",
    "    \n",
    "   -  Un *support de présentation* pour la soutenance."
   ]
  },
  {
   "cell_type": "markdown",
   "metadata": {
    "_cell_guid": "90460051-ca92-4e33-89ef-4dd09777d1fa",
    "_uuid": "bdbad301-ba34-4c67-b981-18a74763676b"
   },
   "source": [
    "**Notebook**"
   ]
  },
  {
   "cell_type": "code",
   "execution_count": 1,
   "metadata": {},
   "outputs": [
    {
     "name": "stdout",
     "output_type": "stream",
     "text": [
      "Collecting package metadata (current_repodata.json): ...working... done\n",
      "Solving environment: ...working... done\n",
      "\n",
      "# All requested packages already installed.\n",
      "\n",
      "Retrieving notices: ...working... done\n"
     ]
    }
   ],
   "source": [
    "# Installer le pacquet termcolor\n",
    "import sys\n",
    "#!{sys.executable} -m pip install termcolor\n",
    "!conda install --yes --prefix {sys.prefix} termcolor"
   ]
  },
  {
   "cell_type": "code",
   "execution_count": 2,
   "metadata": {
    "_cell_guid": "1b2ed8c7-4cf7-4b92-a491-00ba0138f6f5",
    "_uuid": "3c102fcd-a1b2-4e29-a9a0-d8bcbe7ccd51",
    "execution": {
     "iopub.execute_input": "2022-10-11T11:16:14.526703Z",
     "iopub.status.busy": "2022-10-11T11:16:14.526254Z",
     "iopub.status.idle": "2022-10-11T11:16:15.172417Z",
     "shell.execute_reply": "2022-10-11T11:16:15.171400Z",
     "shell.execute_reply.started": "2022-10-11T11:16:14.526619Z"
    },
    "jupyter": {
     "outputs_hidden": false
    }
   },
   "outputs": [],
   "source": [
    "# Importer les bibliothèques nécessaires pour ce projet\n",
    "\n",
    "import numpy as np \n",
    "import pandas as pd \n",
    "import matplotlib.pyplot as plt\n",
    "import seaborn as sns\n",
    "import matplotlib as mpl\n",
    "import sys\n",
    "import sklearn\n",
    "import datetime\n",
    "from termcolor import colored\n",
    "from matplotlib.ticker import AutoMinorLocator\n",
    "%matplotlib inline\n",
    "import warnings\n",
    "warnings.filterwarnings('ignore')\n"
   ]
  },
  {
   "cell_type": "code",
   "execution_count": 3,
   "metadata": {
    "_cell_guid": "e2725e96-9d5c-4571-83a2-6996710cc211",
    "_uuid": "d504712d-5fcc-4b5d-a166-3ae30c803d4e",
    "execution": {
     "iopub.execute_input": "2022-10-11T11:16:15.174639Z",
     "iopub.status.busy": "2022-10-11T11:16:15.174007Z",
     "iopub.status.idle": "2022-10-11T11:16:15.181381Z",
     "shell.execute_reply": "2022-10-11T11:16:15.180125Z",
     "shell.execute_reply.started": "2022-10-11T11:16:15.174603Z"
    },
    "jupyter": {
     "outputs_hidden": false
    }
   },
   "outputs": [
    {
     "name": "stdout",
     "output_type": "stream",
     "text": [
      "Test des versions des bibliothèques utilisées fait le :  2022-10-12T09:23:12.009700\n",
      "-------------------- \n",
      "Version Python -------------------  3.9.12 (main, Apr  4 2022, 05:22:27) [MSC v.1916 64 bit (AMD64)]\n",
      "Version NumPy -------------------  1.21.5\n",
      "Version Pandas -------------------  1.4.2\n",
      "Version Matplotlib -------------------  3.5.1\n",
      "Version Seaborn  -------------------  0.11.2\n",
      "Version Sklearn -------------------  1.0.2\n"
     ]
    }
   ],
   "source": [
    "# Affichage des versions des bibliothèques utilisées\n",
    "print('Test des versions des bibliothèques utilisées fait le : ' , datetime.datetime.now().isoformat())\n",
    "print('-------------------- ' )\n",
    "\n",
    "print('Version Python ------------------- ' , sys.version)\n",
    "print('Version NumPy ------------------- ' , np.version.full_version)\n",
    "print('Version Pandas ------------------- ' , pd.__version__)\n",
    "print('Version Matplotlib ------------------- ' , mpl.__version__)\n",
    "print('Version Seaborn  ------------------- ' , sns.__version__)\n",
    "print('Version Sklearn ------------------- ' , sklearn.__version__)"
   ]
  },
  {
   "cell_type": "markdown",
   "metadata": {
    "_cell_guid": "18aaf5ba-47bf-4eb9-8131-8bc4a96c485d",
    "_uuid": "06103157-c09e-44e1-8eb2-c55b1ac6dad4"
   },
   "source": [
    "# 1.   **Importation des données et affichage de 3 lignes de chaque base**"
   ]
  },
  {
   "cell_type": "code",
   "execution_count": 4,
   "metadata": {
    "_cell_guid": "4f87a961-1436-47bb-9fa5-c20bcdfaffd7",
    "_uuid": "2fe9afc0-ba58-4f8e-b1cc-7102502fff8f",
    "execution": {
     "iopub.execute_input": "2022-10-11T11:16:15.185141Z",
     "iopub.status.busy": "2022-10-11T11:16:15.184444Z",
     "iopub.status.idle": "2022-10-11T11:16:20.571039Z",
     "shell.execute_reply": "2022-10-11T11:16:20.568764Z",
     "shell.execute_reply.started": "2022-10-11T11:16:15.185069Z"
    },
    "jupyter": {
     "outputs_hidden": false
    }
   },
   "outputs": [
    {
     "name": "stdout",
     "output_type": "stream",
     "text": [
      " -------------------------------------------------------------------------------------------\n",
      "Importation de la base  \u001b[1m\u001b[31mEdStatsCountry\u001b[0m :\n",
      " Les 3 premèeres lignes de cette base : \n"
     ]
    },
    {
     "data": {
      "text/html": [
       "<div>\n",
       "<style scoped>\n",
       "    .dataframe tbody tr th:only-of-type {\n",
       "        vertical-align: middle;\n",
       "    }\n",
       "\n",
       "    .dataframe tbody tr th {\n",
       "        vertical-align: top;\n",
       "    }\n",
       "\n",
       "    .dataframe thead th {\n",
       "        text-align: right;\n",
       "    }\n",
       "</style>\n",
       "<table border=\"1\" class=\"dataframe\">\n",
       "  <thead>\n",
       "    <tr style=\"text-align: right;\">\n",
       "      <th></th>\n",
       "      <th>Country Code</th>\n",
       "      <th>Short Name</th>\n",
       "      <th>Table Name</th>\n",
       "      <th>Long Name</th>\n",
       "      <th>2-alpha code</th>\n",
       "      <th>Currency Unit</th>\n",
       "      <th>Special Notes</th>\n",
       "      <th>Region</th>\n",
       "      <th>Income Group</th>\n",
       "      <th>WB-2 code</th>\n",
       "      <th>...</th>\n",
       "      <th>IMF data dissemination standard</th>\n",
       "      <th>Latest population census</th>\n",
       "      <th>Latest household survey</th>\n",
       "      <th>Source of most recent Income and expenditure data</th>\n",
       "      <th>Vital registration complete</th>\n",
       "      <th>Latest agricultural census</th>\n",
       "      <th>Latest industrial data</th>\n",
       "      <th>Latest trade data</th>\n",
       "      <th>Latest water withdrawal data</th>\n",
       "      <th>Unnamed: 31</th>\n",
       "    </tr>\n",
       "  </thead>\n",
       "  <tbody>\n",
       "    <tr>\n",
       "      <th>0</th>\n",
       "      <td>ABW</td>\n",
       "      <td>Aruba</td>\n",
       "      <td>Aruba</td>\n",
       "      <td>Aruba</td>\n",
       "      <td>AW</td>\n",
       "      <td>Aruban florin</td>\n",
       "      <td>SNA data for 2000-2011 are updated from offici...</td>\n",
       "      <td>Latin America &amp; Caribbean</td>\n",
       "      <td>High income: nonOECD</td>\n",
       "      <td>AW</td>\n",
       "      <td>...</td>\n",
       "      <td>NaN</td>\n",
       "      <td>2010</td>\n",
       "      <td>NaN</td>\n",
       "      <td>NaN</td>\n",
       "      <td>Yes</td>\n",
       "      <td>NaN</td>\n",
       "      <td>NaN</td>\n",
       "      <td>2012.0</td>\n",
       "      <td>NaN</td>\n",
       "      <td>NaN</td>\n",
       "    </tr>\n",
       "    <tr>\n",
       "      <th>1</th>\n",
       "      <td>AFG</td>\n",
       "      <td>Afghanistan</td>\n",
       "      <td>Afghanistan</td>\n",
       "      <td>Islamic State of Afghanistan</td>\n",
       "      <td>AF</td>\n",
       "      <td>Afghan afghani</td>\n",
       "      <td>Fiscal year end: March 20; reporting period fo...</td>\n",
       "      <td>South Asia</td>\n",
       "      <td>Low income</td>\n",
       "      <td>AF</td>\n",
       "      <td>...</td>\n",
       "      <td>General Data Dissemination System (GDDS)</td>\n",
       "      <td>1979</td>\n",
       "      <td>Multiple Indicator Cluster Survey (MICS), 2010/11</td>\n",
       "      <td>Integrated household survey (IHS), 2008</td>\n",
       "      <td>NaN</td>\n",
       "      <td>2013/14</td>\n",
       "      <td>NaN</td>\n",
       "      <td>2012.0</td>\n",
       "      <td>2000</td>\n",
       "      <td>NaN</td>\n",
       "    </tr>\n",
       "    <tr>\n",
       "      <th>2</th>\n",
       "      <td>AGO</td>\n",
       "      <td>Angola</td>\n",
       "      <td>Angola</td>\n",
       "      <td>People's Republic of Angola</td>\n",
       "      <td>AO</td>\n",
       "      <td>Angolan kwanza</td>\n",
       "      <td>April 2013 database update: Based on IMF data,...</td>\n",
       "      <td>Sub-Saharan Africa</td>\n",
       "      <td>Upper middle income</td>\n",
       "      <td>AO</td>\n",
       "      <td>...</td>\n",
       "      <td>General Data Dissemination System (GDDS)</td>\n",
       "      <td>1970</td>\n",
       "      <td>Malaria Indicator Survey (MIS), 2011</td>\n",
       "      <td>Integrated household survey (IHS), 2008</td>\n",
       "      <td>NaN</td>\n",
       "      <td>2015</td>\n",
       "      <td>NaN</td>\n",
       "      <td>NaN</td>\n",
       "      <td>2005</td>\n",
       "      <td>NaN</td>\n",
       "    </tr>\n",
       "  </tbody>\n",
       "</table>\n",
       "<p>3 rows × 32 columns</p>\n",
       "</div>"
      ],
      "text/plain": [
       "  Country Code   Short Name   Table Name                     Long Name  \\\n",
       "0          ABW        Aruba        Aruba                         Aruba   \n",
       "1          AFG  Afghanistan  Afghanistan  Islamic State of Afghanistan   \n",
       "2          AGO       Angola       Angola   People's Republic of Angola   \n",
       "\n",
       "  2-alpha code   Currency Unit  \\\n",
       "0           AW   Aruban florin   \n",
       "1           AF  Afghan afghani   \n",
       "2           AO  Angolan kwanza   \n",
       "\n",
       "                                       Special Notes  \\\n",
       "0  SNA data for 2000-2011 are updated from offici...   \n",
       "1  Fiscal year end: March 20; reporting period fo...   \n",
       "2  April 2013 database update: Based on IMF data,...   \n",
       "\n",
       "                      Region          Income Group WB-2 code  ...  \\\n",
       "0  Latin America & Caribbean  High income: nonOECD        AW  ...   \n",
       "1                 South Asia            Low income        AF  ...   \n",
       "2         Sub-Saharan Africa   Upper middle income        AO  ...   \n",
       "\n",
       "            IMF data dissemination standard  Latest population census  \\\n",
       "0                                       NaN                      2010   \n",
       "1  General Data Dissemination System (GDDS)                      1979   \n",
       "2  General Data Dissemination System (GDDS)                      1970   \n",
       "\n",
       "                             Latest household survey  \\\n",
       "0                                                NaN   \n",
       "1  Multiple Indicator Cluster Survey (MICS), 2010/11   \n",
       "2               Malaria Indicator Survey (MIS), 2011   \n",
       "\n",
       "  Source of most recent Income and expenditure data  \\\n",
       "0                                               NaN   \n",
       "1           Integrated household survey (IHS), 2008   \n",
       "2           Integrated household survey (IHS), 2008   \n",
       "\n",
       "  Vital registration complete Latest agricultural census  \\\n",
       "0                         Yes                        NaN   \n",
       "1                         NaN                    2013/14   \n",
       "2                         NaN                       2015   \n",
       "\n",
       "  Latest industrial data Latest trade data Latest water withdrawal data  \\\n",
       "0                    NaN            2012.0                          NaN   \n",
       "1                    NaN            2012.0                         2000   \n",
       "2                    NaN               NaN                         2005   \n",
       "\n",
       "  Unnamed: 31  \n",
       "0         NaN  \n",
       "1         NaN  \n",
       "2         NaN  \n",
       "\n",
       "[3 rows x 32 columns]"
      ]
     },
     "metadata": {},
     "output_type": "display_data"
    },
    {
     "name": "stdout",
     "output_type": "stream",
     "text": [
      " -------------------------------------------------------------------------------------------\n",
      "Importation de la base  \u001b[1m\u001b[31mEdStatsCountry-Series\u001b[0m :\n",
      " Les 3 premèeres lignes de cette base : \n"
     ]
    },
    {
     "data": {
      "text/html": [
       "<div>\n",
       "<style scoped>\n",
       "    .dataframe tbody tr th:only-of-type {\n",
       "        vertical-align: middle;\n",
       "    }\n",
       "\n",
       "    .dataframe tbody tr th {\n",
       "        vertical-align: top;\n",
       "    }\n",
       "\n",
       "    .dataframe thead th {\n",
       "        text-align: right;\n",
       "    }\n",
       "</style>\n",
       "<table border=\"1\" class=\"dataframe\">\n",
       "  <thead>\n",
       "    <tr style=\"text-align: right;\">\n",
       "      <th></th>\n",
       "      <th>CountryCode</th>\n",
       "      <th>SeriesCode</th>\n",
       "      <th>DESCRIPTION</th>\n",
       "      <th>Unnamed: 3</th>\n",
       "    </tr>\n",
       "  </thead>\n",
       "  <tbody>\n",
       "    <tr>\n",
       "      <th>0</th>\n",
       "      <td>ABW</td>\n",
       "      <td>SP.POP.TOTL</td>\n",
       "      <td>Data sources : United Nations World Population...</td>\n",
       "      <td>NaN</td>\n",
       "    </tr>\n",
       "    <tr>\n",
       "      <th>1</th>\n",
       "      <td>ABW</td>\n",
       "      <td>SP.POP.GROW</td>\n",
       "      <td>Data sources: United Nations World Population ...</td>\n",
       "      <td>NaN</td>\n",
       "    </tr>\n",
       "    <tr>\n",
       "      <th>2</th>\n",
       "      <td>AFG</td>\n",
       "      <td>SP.POP.GROW</td>\n",
       "      <td>Data sources: United Nations World Population ...</td>\n",
       "      <td>NaN</td>\n",
       "    </tr>\n",
       "  </tbody>\n",
       "</table>\n",
       "</div>"
      ],
      "text/plain": [
       "  CountryCode   SeriesCode                                        DESCRIPTION  \\\n",
       "0         ABW  SP.POP.TOTL  Data sources : United Nations World Population...   \n",
       "1         ABW  SP.POP.GROW  Data sources: United Nations World Population ...   \n",
       "2         AFG  SP.POP.GROW  Data sources: United Nations World Population ...   \n",
       "\n",
       "   Unnamed: 3  \n",
       "0         NaN  \n",
       "1         NaN  \n",
       "2         NaN  "
      ]
     },
     "metadata": {},
     "output_type": "display_data"
    },
    {
     "name": "stdout",
     "output_type": "stream",
     "text": [
      " -------------------------------------------------------------------------------------------\n",
      "Importation de la base  \u001b[1m\u001b[31mEdStatsData\u001b[0m :\n",
      " Les 3 premèeres lignes de cette base : \n"
     ]
    },
    {
     "data": {
      "text/html": [
       "<div>\n",
       "<style scoped>\n",
       "    .dataframe tbody tr th:only-of-type {\n",
       "        vertical-align: middle;\n",
       "    }\n",
       "\n",
       "    .dataframe tbody tr th {\n",
       "        vertical-align: top;\n",
       "    }\n",
       "\n",
       "    .dataframe thead th {\n",
       "        text-align: right;\n",
       "    }\n",
       "</style>\n",
       "<table border=\"1\" class=\"dataframe\">\n",
       "  <thead>\n",
       "    <tr style=\"text-align: right;\">\n",
       "      <th></th>\n",
       "      <th>Country Name</th>\n",
       "      <th>Country Code</th>\n",
       "      <th>Indicator Name</th>\n",
       "      <th>Indicator Code</th>\n",
       "      <th>1970</th>\n",
       "      <th>1971</th>\n",
       "      <th>1972</th>\n",
       "      <th>1973</th>\n",
       "      <th>1974</th>\n",
       "      <th>1975</th>\n",
       "      <th>...</th>\n",
       "      <th>2060</th>\n",
       "      <th>2065</th>\n",
       "      <th>2070</th>\n",
       "      <th>2075</th>\n",
       "      <th>2080</th>\n",
       "      <th>2085</th>\n",
       "      <th>2090</th>\n",
       "      <th>2095</th>\n",
       "      <th>2100</th>\n",
       "      <th>Unnamed: 69</th>\n",
       "    </tr>\n",
       "  </thead>\n",
       "  <tbody>\n",
       "    <tr>\n",
       "      <th>0</th>\n",
       "      <td>Arab World</td>\n",
       "      <td>ARB</td>\n",
       "      <td>Adjusted net enrolment rate, lower secondary, ...</td>\n",
       "      <td>UIS.NERA.2</td>\n",
       "      <td>NaN</td>\n",
       "      <td>NaN</td>\n",
       "      <td>NaN</td>\n",
       "      <td>NaN</td>\n",
       "      <td>NaN</td>\n",
       "      <td>NaN</td>\n",
       "      <td>...</td>\n",
       "      <td>NaN</td>\n",
       "      <td>NaN</td>\n",
       "      <td>NaN</td>\n",
       "      <td>NaN</td>\n",
       "      <td>NaN</td>\n",
       "      <td>NaN</td>\n",
       "      <td>NaN</td>\n",
       "      <td>NaN</td>\n",
       "      <td>NaN</td>\n",
       "      <td>NaN</td>\n",
       "    </tr>\n",
       "    <tr>\n",
       "      <th>1</th>\n",
       "      <td>Arab World</td>\n",
       "      <td>ARB</td>\n",
       "      <td>Adjusted net enrolment rate, lower secondary, ...</td>\n",
       "      <td>UIS.NERA.2.F</td>\n",
       "      <td>NaN</td>\n",
       "      <td>NaN</td>\n",
       "      <td>NaN</td>\n",
       "      <td>NaN</td>\n",
       "      <td>NaN</td>\n",
       "      <td>NaN</td>\n",
       "      <td>...</td>\n",
       "      <td>NaN</td>\n",
       "      <td>NaN</td>\n",
       "      <td>NaN</td>\n",
       "      <td>NaN</td>\n",
       "      <td>NaN</td>\n",
       "      <td>NaN</td>\n",
       "      <td>NaN</td>\n",
       "      <td>NaN</td>\n",
       "      <td>NaN</td>\n",
       "      <td>NaN</td>\n",
       "    </tr>\n",
       "    <tr>\n",
       "      <th>2</th>\n",
       "      <td>Arab World</td>\n",
       "      <td>ARB</td>\n",
       "      <td>Adjusted net enrolment rate, lower secondary, ...</td>\n",
       "      <td>UIS.NERA.2.GPI</td>\n",
       "      <td>NaN</td>\n",
       "      <td>NaN</td>\n",
       "      <td>NaN</td>\n",
       "      <td>NaN</td>\n",
       "      <td>NaN</td>\n",
       "      <td>NaN</td>\n",
       "      <td>...</td>\n",
       "      <td>NaN</td>\n",
       "      <td>NaN</td>\n",
       "      <td>NaN</td>\n",
       "      <td>NaN</td>\n",
       "      <td>NaN</td>\n",
       "      <td>NaN</td>\n",
       "      <td>NaN</td>\n",
       "      <td>NaN</td>\n",
       "      <td>NaN</td>\n",
       "      <td>NaN</td>\n",
       "    </tr>\n",
       "  </tbody>\n",
       "</table>\n",
       "<p>3 rows × 70 columns</p>\n",
       "</div>"
      ],
      "text/plain": [
       "  Country Name Country Code  \\\n",
       "0   Arab World          ARB   \n",
       "1   Arab World          ARB   \n",
       "2   Arab World          ARB   \n",
       "\n",
       "                                      Indicator Name  Indicator Code  1970  \\\n",
       "0  Adjusted net enrolment rate, lower secondary, ...      UIS.NERA.2   NaN   \n",
       "1  Adjusted net enrolment rate, lower secondary, ...    UIS.NERA.2.F   NaN   \n",
       "2  Adjusted net enrolment rate, lower secondary, ...  UIS.NERA.2.GPI   NaN   \n",
       "\n",
       "   1971  1972  1973  1974  1975  ...  2060  2065  2070  2075  2080  2085  \\\n",
       "0   NaN   NaN   NaN   NaN   NaN  ...   NaN   NaN   NaN   NaN   NaN   NaN   \n",
       "1   NaN   NaN   NaN   NaN   NaN  ...   NaN   NaN   NaN   NaN   NaN   NaN   \n",
       "2   NaN   NaN   NaN   NaN   NaN  ...   NaN   NaN   NaN   NaN   NaN   NaN   \n",
       "\n",
       "   2090  2095  2100  Unnamed: 69  \n",
       "0   NaN   NaN   NaN          NaN  \n",
       "1   NaN   NaN   NaN          NaN  \n",
       "2   NaN   NaN   NaN          NaN  \n",
       "\n",
       "[3 rows x 70 columns]"
      ]
     },
     "metadata": {},
     "output_type": "display_data"
    },
    {
     "name": "stdout",
     "output_type": "stream",
     "text": [
      " -------------------------------------------------------------------------------------------\n",
      "Importation de la base  \u001b[1m\u001b[31mEdStatsFootNote\u001b[0m :\n",
      " Les 3 premèeres lignes de cette base : \n"
     ]
    },
    {
     "data": {
      "text/html": [
       "<div>\n",
       "<style scoped>\n",
       "    .dataframe tbody tr th:only-of-type {\n",
       "        vertical-align: middle;\n",
       "    }\n",
       "\n",
       "    .dataframe tbody tr th {\n",
       "        vertical-align: top;\n",
       "    }\n",
       "\n",
       "    .dataframe thead th {\n",
       "        text-align: right;\n",
       "    }\n",
       "</style>\n",
       "<table border=\"1\" class=\"dataframe\">\n",
       "  <thead>\n",
       "    <tr style=\"text-align: right;\">\n",
       "      <th></th>\n",
       "      <th>CountryCode</th>\n",
       "      <th>SeriesCode</th>\n",
       "      <th>Year</th>\n",
       "      <th>DESCRIPTION</th>\n",
       "      <th>Unnamed: 4</th>\n",
       "    </tr>\n",
       "  </thead>\n",
       "  <tbody>\n",
       "    <tr>\n",
       "      <th>0</th>\n",
       "      <td>ABW</td>\n",
       "      <td>SE.PRE.ENRL.FE</td>\n",
       "      <td>YR2001</td>\n",
       "      <td>Country estimation.</td>\n",
       "      <td>NaN</td>\n",
       "    </tr>\n",
       "    <tr>\n",
       "      <th>1</th>\n",
       "      <td>ABW</td>\n",
       "      <td>SE.TER.TCHR.FE</td>\n",
       "      <td>YR2005</td>\n",
       "      <td>Country estimation.</td>\n",
       "      <td>NaN</td>\n",
       "    </tr>\n",
       "    <tr>\n",
       "      <th>2</th>\n",
       "      <td>ABW</td>\n",
       "      <td>SE.PRE.TCHR.FE</td>\n",
       "      <td>YR2000</td>\n",
       "      <td>Country estimation.</td>\n",
       "      <td>NaN</td>\n",
       "    </tr>\n",
       "  </tbody>\n",
       "</table>\n",
       "</div>"
      ],
      "text/plain": [
       "  CountryCode      SeriesCode    Year          DESCRIPTION  Unnamed: 4\n",
       "0         ABW  SE.PRE.ENRL.FE  YR2001  Country estimation.         NaN\n",
       "1         ABW  SE.TER.TCHR.FE  YR2005  Country estimation.         NaN\n",
       "2         ABW  SE.PRE.TCHR.FE  YR2000  Country estimation.         NaN"
      ]
     },
     "metadata": {},
     "output_type": "display_data"
    },
    {
     "name": "stdout",
     "output_type": "stream",
     "text": [
      " -------------------------------------------------------------------------------------------\n",
      "Importation de la base  \u001b[1m\u001b[31mEdStatsSeries\u001b[0m :\n",
      " Les 3 premèeres lignes de cette base : \n"
     ]
    },
    {
     "data": {
      "text/html": [
       "<div>\n",
       "<style scoped>\n",
       "    .dataframe tbody tr th:only-of-type {\n",
       "        vertical-align: middle;\n",
       "    }\n",
       "\n",
       "    .dataframe tbody tr th {\n",
       "        vertical-align: top;\n",
       "    }\n",
       "\n",
       "    .dataframe thead th {\n",
       "        text-align: right;\n",
       "    }\n",
       "</style>\n",
       "<table border=\"1\" class=\"dataframe\">\n",
       "  <thead>\n",
       "    <tr style=\"text-align: right;\">\n",
       "      <th></th>\n",
       "      <th>Series Code</th>\n",
       "      <th>Topic</th>\n",
       "      <th>Indicator Name</th>\n",
       "      <th>Short definition</th>\n",
       "      <th>Long definition</th>\n",
       "      <th>Unit of measure</th>\n",
       "      <th>Periodicity</th>\n",
       "      <th>Base Period</th>\n",
       "      <th>Other notes</th>\n",
       "      <th>Aggregation method</th>\n",
       "      <th>...</th>\n",
       "      <th>Notes from original source</th>\n",
       "      <th>General comments</th>\n",
       "      <th>Source</th>\n",
       "      <th>Statistical concept and methodology</th>\n",
       "      <th>Development relevance</th>\n",
       "      <th>Related source links</th>\n",
       "      <th>Other web links</th>\n",
       "      <th>Related indicators</th>\n",
       "      <th>License Type</th>\n",
       "      <th>Unnamed: 20</th>\n",
       "    </tr>\n",
       "  </thead>\n",
       "  <tbody>\n",
       "    <tr>\n",
       "      <th>0</th>\n",
       "      <td>BAR.NOED.1519.FE.ZS</td>\n",
       "      <td>Attainment</td>\n",
       "      <td>Barro-Lee: Percentage of female population age...</td>\n",
       "      <td>Percentage of female population age 15-19 with...</td>\n",
       "      <td>Percentage of female population age 15-19 with...</td>\n",
       "      <td>NaN</td>\n",
       "      <td>NaN</td>\n",
       "      <td>NaN</td>\n",
       "      <td>NaN</td>\n",
       "      <td>NaN</td>\n",
       "      <td>...</td>\n",
       "      <td>NaN</td>\n",
       "      <td>NaN</td>\n",
       "      <td>Robert J. Barro and Jong-Wha Lee: http://www.b...</td>\n",
       "      <td>NaN</td>\n",
       "      <td>NaN</td>\n",
       "      <td>NaN</td>\n",
       "      <td>NaN</td>\n",
       "      <td>NaN</td>\n",
       "      <td>NaN</td>\n",
       "      <td>NaN</td>\n",
       "    </tr>\n",
       "    <tr>\n",
       "      <th>1</th>\n",
       "      <td>BAR.NOED.1519.ZS</td>\n",
       "      <td>Attainment</td>\n",
       "      <td>Barro-Lee: Percentage of population age 15-19 ...</td>\n",
       "      <td>Percentage of population age 15-19 with no edu...</td>\n",
       "      <td>Percentage of population age 15-19 with no edu...</td>\n",
       "      <td>NaN</td>\n",
       "      <td>NaN</td>\n",
       "      <td>NaN</td>\n",
       "      <td>NaN</td>\n",
       "      <td>NaN</td>\n",
       "      <td>...</td>\n",
       "      <td>NaN</td>\n",
       "      <td>NaN</td>\n",
       "      <td>Robert J. Barro and Jong-Wha Lee: http://www.b...</td>\n",
       "      <td>NaN</td>\n",
       "      <td>NaN</td>\n",
       "      <td>NaN</td>\n",
       "      <td>NaN</td>\n",
       "      <td>NaN</td>\n",
       "      <td>NaN</td>\n",
       "      <td>NaN</td>\n",
       "    </tr>\n",
       "    <tr>\n",
       "      <th>2</th>\n",
       "      <td>BAR.NOED.15UP.FE.ZS</td>\n",
       "      <td>Attainment</td>\n",
       "      <td>Barro-Lee: Percentage of female population age...</td>\n",
       "      <td>Percentage of female population age 15+ with n...</td>\n",
       "      <td>Percentage of female population age 15+ with n...</td>\n",
       "      <td>NaN</td>\n",
       "      <td>NaN</td>\n",
       "      <td>NaN</td>\n",
       "      <td>NaN</td>\n",
       "      <td>NaN</td>\n",
       "      <td>...</td>\n",
       "      <td>NaN</td>\n",
       "      <td>NaN</td>\n",
       "      <td>Robert J. Barro and Jong-Wha Lee: http://www.b...</td>\n",
       "      <td>NaN</td>\n",
       "      <td>NaN</td>\n",
       "      <td>NaN</td>\n",
       "      <td>NaN</td>\n",
       "      <td>NaN</td>\n",
       "      <td>NaN</td>\n",
       "      <td>NaN</td>\n",
       "    </tr>\n",
       "  </tbody>\n",
       "</table>\n",
       "<p>3 rows × 21 columns</p>\n",
       "</div>"
      ],
      "text/plain": [
       "           Series Code       Topic  \\\n",
       "0  BAR.NOED.1519.FE.ZS  Attainment   \n",
       "1     BAR.NOED.1519.ZS  Attainment   \n",
       "2  BAR.NOED.15UP.FE.ZS  Attainment   \n",
       "\n",
       "                                      Indicator Name  \\\n",
       "0  Barro-Lee: Percentage of female population age...   \n",
       "1  Barro-Lee: Percentage of population age 15-19 ...   \n",
       "2  Barro-Lee: Percentage of female population age...   \n",
       "\n",
       "                                    Short definition  \\\n",
       "0  Percentage of female population age 15-19 with...   \n",
       "1  Percentage of population age 15-19 with no edu...   \n",
       "2  Percentage of female population age 15+ with n...   \n",
       "\n",
       "                                     Long definition  Unit of measure  \\\n",
       "0  Percentage of female population age 15-19 with...              NaN   \n",
       "1  Percentage of population age 15-19 with no edu...              NaN   \n",
       "2  Percentage of female population age 15+ with n...              NaN   \n",
       "\n",
       "  Periodicity Base Period Other notes Aggregation method  ...  \\\n",
       "0         NaN         NaN         NaN                NaN  ...   \n",
       "1         NaN         NaN         NaN                NaN  ...   \n",
       "2         NaN         NaN         NaN                NaN  ...   \n",
       "\n",
       "  Notes from original source  General comments  \\\n",
       "0                        NaN               NaN   \n",
       "1                        NaN               NaN   \n",
       "2                        NaN               NaN   \n",
       "\n",
       "                                              Source  \\\n",
       "0  Robert J. Barro and Jong-Wha Lee: http://www.b...   \n",
       "1  Robert J. Barro and Jong-Wha Lee: http://www.b...   \n",
       "2  Robert J. Barro and Jong-Wha Lee: http://www.b...   \n",
       "\n",
       "  Statistical concept and methodology Development relevance  \\\n",
       "0                                 NaN                   NaN   \n",
       "1                                 NaN                   NaN   \n",
       "2                                 NaN                   NaN   \n",
       "\n",
       "  Related source links Other web links  Related indicators  License Type  \\\n",
       "0                  NaN             NaN                 NaN           NaN   \n",
       "1                  NaN             NaN                 NaN           NaN   \n",
       "2                  NaN             NaN                 NaN           NaN   \n",
       "\n",
       "   Unnamed: 20  \n",
       "0          NaN  \n",
       "1          NaN  \n",
       "2          NaN  \n",
       "\n",
       "[3 rows x 21 columns]"
      ]
     },
     "metadata": {},
     "output_type": "display_data"
    }
   ],
   "source": [
    "database_name = ['EdStatsCountry','EdStatsCountry-Series','EdStatsData','EdStatsFootNote','EdStatsSeries']\n",
    "chemin=''\n",
    "extension='.csv'\n",
    "database=[]\n",
    "  \n",
    "for i in range(len(database_name)):\n",
    "    print(' -------------------------------------------------------------------------------------------')\n",
    "    print ('Importation de la base ', colored(database_name[i], 'red', attrs=['bold']),':')\n",
    "    data = pd.read_csv(chemin + database_name[i] + extension)\n",
    "    data = pd.DataFrame(data)\n",
    "    database.append(data)\n",
    "    print (' Les 3 premèeres lignes de cette base : ')\n",
    "    display(data.head(3))\n",
    "    \n",
    "EdStatsCountry=database[0]\n",
    "EdStatsCountry_Series=database[1]\n",
    "EdStatsData=database[2]\n",
    "EdStatsFootNote=database[3]\n",
    "EdStatsSeries=database[4]"
   ]
  },
  {
   "cell_type": "markdown",
   "metadata": {
    "_cell_guid": "e4c4df93-62fb-4978-889a-615fefa80de4",
    "_uuid": "86aa8037-0b8a-4bf3-96c9-7336dc05290d"
   },
   "source": [
    "# 2.   **Analyse des Bases de données**"
   ]
  },
  {
   "cell_type": "code",
   "execution_count": 5,
   "metadata": {
    "_cell_guid": "3ff5f3b5-3d40-449f-8eeb-367c39611892",
    "_uuid": "ae26973a-ece0-431a-9306-67c1c2817805",
    "execution": {
     "iopub.execute_input": "2022-10-11T11:16:20.574778Z",
     "iopub.status.busy": "2022-10-11T11:16:20.574364Z",
     "iopub.status.idle": "2022-10-11T11:16:27.352864Z",
     "shell.execute_reply": "2022-10-11T11:16:27.349842Z",
     "shell.execute_reply.started": "2022-10-11T11:16:20.574739Z"
    },
    "jupyter": {
     "outputs_hidden": false
    }
   },
   "outputs": [
    {
     "name": "stdout",
     "output_type": "stream",
     "text": [
      "Analyse de la base  \u001b[1m\u001b[31mEdStatsCountry\u001b[0m :\n",
      "1 ------------------------------------------------------------------------\n",
      "Quelques informations sur la base en utilisant la fonction info():\n",
      "\n",
      "<class 'pandas.core.frame.DataFrame'>\n",
      "RangeIndex: 241 entries, 0 to 240\n",
      "Data columns (total 32 columns):\n",
      " #   Column                                             Non-Null Count  Dtype  \n",
      "---  ------                                             --------------  -----  \n",
      " 0   Country Code                                       241 non-null    object \n",
      " 1   Short Name                                         241 non-null    object \n",
      " 2   Table Name                                         241 non-null    object \n",
      " 3   Long Name                                          241 non-null    object \n",
      " 4   2-alpha code                                       238 non-null    object \n",
      " 5   Currency Unit                                      215 non-null    object \n",
      " 6   Special Notes                                      145 non-null    object \n",
      " 7   Region                                             214 non-null    object \n",
      " 8   Income Group                                       214 non-null    object \n",
      " 9   WB-2 code                                          240 non-null    object \n",
      " 10  National accounts base year                        205 non-null    object \n",
      " 11  National accounts reference year                   32 non-null     float64\n",
      " 12  SNA price valuation                                197 non-null    object \n",
      " 13  Lending category                                   144 non-null    object \n",
      " 14  Other groups                                       58 non-null     object \n",
      " 15  System of National Accounts                        215 non-null    object \n",
      " 16  Alternative conversion factor                      47 non-null     object \n",
      " 17  PPP survey year                                    145 non-null    object \n",
      " 18  Balance of Payments Manual in use                  181 non-null    object \n",
      " 19  External debt Reporting status                     124 non-null    object \n",
      " 20  System of trade                                    200 non-null    object \n",
      " 21  Government Accounting concept                      161 non-null    object \n",
      " 22  IMF data dissemination standard                    181 non-null    object \n",
      " 23  Latest population census                           213 non-null    object \n",
      " 24  Latest household survey                            141 non-null    object \n",
      " 25  Source of most recent Income and expenditure data  160 non-null    object \n",
      " 26  Vital registration complete                        111 non-null    object \n",
      " 27  Latest agricultural census                         142 non-null    object \n",
      " 28  Latest industrial data                             107 non-null    float64\n",
      " 29  Latest trade data                                  185 non-null    float64\n",
      " 30  Latest water withdrawal data                       179 non-null    object \n",
      " 31  Unnamed: 31                                        0 non-null      float64\n",
      "dtypes: float64(4), object(28)\n",
      "memory usage: 60.4+ KB\n",
      "None\n",
      "2 ------------------------------------------------------------------------\n",
      "Il y a  241 lignes et  32 colonnes dans la base  EdStatsCountry\n",
      "3 ------------------------------------------------------------------------\n",
      "Le nombre de données manquantes par colonnes : \n",
      " Country Code                                           0\n",
      "Short Name                                             0\n",
      "Table Name                                             0\n",
      "Long Name                                              0\n",
      "2-alpha code                                           3\n",
      "Currency Unit                                         26\n",
      "Special Notes                                         96\n",
      "Region                                                27\n",
      "Income Group                                          27\n",
      "WB-2 code                                              1\n",
      "National accounts base year                           36\n",
      "National accounts reference year                     209\n",
      "SNA price valuation                                   44\n",
      "Lending category                                      97\n",
      "Other groups                                         183\n",
      "System of National Accounts                           26\n",
      "Alternative conversion factor                        194\n",
      "PPP survey year                                       96\n",
      "Balance of Payments Manual in use                     60\n",
      "External debt Reporting status                       117\n",
      "System of trade                                       41\n",
      "Government Accounting concept                         80\n",
      "IMF data dissemination standard                       60\n",
      "Latest population census                              28\n",
      "Latest household survey                              100\n",
      "Source of most recent Income and expenditure data     81\n",
      "Vital registration complete                          130\n",
      "Latest agricultural census                            99\n",
      "Latest industrial data                               134\n",
      "Latest trade data                                     56\n",
      "Latest water withdrawal data                          62\n",
      "Unnamed: 31                                          241\n",
      "dtype: int64\n",
      "4 ------------------------------------------------------------------------\n",
      "Le nombre total de données manquantes est : \n",
      " 2354\n",
      "5 ------------------------------------------------------------------------\n",
      "Le pourcentage des données manquantes est : \n",
      " 30.52 %\n",
      "Il n'y a pas de doublons dans cette base\n",
      "\u001b[34m*******************************************************************************************************\u001b[0m\n",
      "Analyse de la base  \u001b[1m\u001b[31mEdStatsCountry-Series\u001b[0m :\n",
      "1 ------------------------------------------------------------------------\n",
      "Quelques informations sur la base en utilisant la fonction info():\n",
      "\n",
      "<class 'pandas.core.frame.DataFrame'>\n",
      "RangeIndex: 613 entries, 0 to 612\n",
      "Data columns (total 4 columns):\n",
      " #   Column       Non-Null Count  Dtype  \n",
      "---  ------       --------------  -----  \n",
      " 0   CountryCode  613 non-null    object \n",
      " 1   SeriesCode   613 non-null    object \n",
      " 2   DESCRIPTION  613 non-null    object \n",
      " 3   Unnamed: 3   0 non-null      float64\n",
      "dtypes: float64(1), object(3)\n",
      "memory usage: 19.3+ KB\n",
      "None\n",
      "2 ------------------------------------------------------------------------\n",
      "Il y a  613 lignes et  4 colonnes dans la base  EdStatsCountry-Series\n",
      "3 ------------------------------------------------------------------------\n",
      "Le nombre de données manquantes par colonnes : \n",
      " CountryCode      0\n",
      "SeriesCode       0\n",
      "DESCRIPTION      0\n",
      "Unnamed: 3     613\n",
      "dtype: int64\n",
      "4 ------------------------------------------------------------------------\n",
      "Le nombre total de données manquantes est : \n",
      " 613\n",
      "5 ------------------------------------------------------------------------\n",
      "Le pourcentage des données manquantes est : \n",
      " 25.0 %\n",
      "Il n'y a pas de doublons dans cette base\n",
      "\u001b[34m*******************************************************************************************************\u001b[0m\n",
      "Analyse de la base  \u001b[1m\u001b[31mEdStatsData\u001b[0m :\n",
      "1 ------------------------------------------------------------------------\n",
      "Quelques informations sur la base en utilisant la fonction info():\n",
      "\n",
      "<class 'pandas.core.frame.DataFrame'>\n",
      "RangeIndex: 886930 entries, 0 to 886929\n",
      "Data columns (total 70 columns):\n",
      " #   Column          Non-Null Count   Dtype  \n",
      "---  ------          --------------   -----  \n",
      " 0   Country Name    886930 non-null  object \n",
      " 1   Country Code    886930 non-null  object \n",
      " 2   Indicator Name  886930 non-null  object \n",
      " 3   Indicator Code  886930 non-null  object \n",
      " 4   1970            72288 non-null   float64\n",
      " 5   1971            35537 non-null   float64\n",
      " 6   1972            35619 non-null   float64\n",
      " 7   1973            35545 non-null   float64\n",
      " 8   1974            35730 non-null   float64\n",
      " 9   1975            87306 non-null   float64\n",
      " 10  1976            37483 non-null   float64\n",
      " 11  1977            37574 non-null   float64\n",
      " 12  1978            37576 non-null   float64\n",
      " 13  1979            36809 non-null   float64\n",
      " 14  1980            89122 non-null   float64\n",
      " 15  1981            38777 non-null   float64\n",
      " 16  1982            37511 non-null   float64\n",
      " 17  1983            38460 non-null   float64\n",
      " 18  1984            38606 non-null   float64\n",
      " 19  1985            90296 non-null   float64\n",
      " 20  1986            39372 non-null   float64\n",
      " 21  1987            38641 non-null   float64\n",
      " 22  1988            38552 non-null   float64\n",
      " 23  1989            37540 non-null   float64\n",
      " 24  1990            124405 non-null  float64\n",
      " 25  1991            74437 non-null   float64\n",
      " 26  1992            75543 non-null   float64\n",
      " 27  1993            75793 non-null   float64\n",
      " 28  1994            77462 non-null   float64\n",
      " 29  1995            131361 non-null  float64\n",
      " 30  1996            76807 non-null   float64\n",
      " 31  1997            73453 non-null   float64\n",
      " 32  1998            84914 non-null   float64\n",
      " 33  1999            118839 non-null  float64\n",
      " 34  2000            176676 non-null  float64\n",
      " 35  2001            123509 non-null  float64\n",
      " 36  2002            124205 non-null  float64\n",
      " 37  2003            130363 non-null  float64\n",
      " 38  2004            128814 non-null  float64\n",
      " 39  2005            184108 non-null  float64\n",
      " 40  2006            140312 non-null  float64\n",
      " 41  2007            137272 non-null  float64\n",
      " 42  2008            134387 non-null  float64\n",
      " 43  2009            142108 non-null  float64\n",
      " 44  2010            242442 non-null  float64\n",
      " 45  2011            146012 non-null  float64\n",
      " 46  2012            147264 non-null  float64\n",
      " 47  2013            137509 non-null  float64\n",
      " 48  2014            113789 non-null  float64\n",
      " 49  2015            131058 non-null  float64\n",
      " 50  2016            16460 non-null   float64\n",
      " 51  2017            143 non-null     float64\n",
      " 52  2020            51436 non-null   float64\n",
      " 53  2025            51436 non-null   float64\n",
      " 54  2030            51436 non-null   float64\n",
      " 55  2035            51436 non-null   float64\n",
      " 56  2040            51436 non-null   float64\n",
      " 57  2045            51436 non-null   float64\n",
      " 58  2050            51436 non-null   float64\n",
      " 59  2055            51436 non-null   float64\n",
      " 60  2060            51436 non-null   float64\n",
      " 61  2065            51436 non-null   float64\n",
      " 62  2070            51436 non-null   float64\n",
      " 63  2075            51436 non-null   float64\n",
      " 64  2080            51436 non-null   float64\n",
      " 65  2085            51436 non-null   float64\n",
      " 66  2090            51436 non-null   float64\n",
      " 67  2095            51436 non-null   float64\n",
      " 68  2100            51436 non-null   float64\n",
      " 69  Unnamed: 69     0 non-null       float64\n",
      "dtypes: float64(66), object(4)\n",
      "memory usage: 473.7+ MB\n",
      "None\n",
      "2 ------------------------------------------------------------------------\n",
      "Il y a  886930 lignes et  70 colonnes dans la base  EdStatsData\n",
      "3 ------------------------------------------------------------------------\n"
     ]
    },
    {
     "name": "stdout",
     "output_type": "stream",
     "text": [
      "Le nombre de données manquantes par colonnes : \n",
      " Country Name           0\n",
      "Country Code           0\n",
      "Indicator Name         0\n",
      "Indicator Code         0\n",
      "1970              814642\n",
      "                   ...  \n",
      "2085              835494\n",
      "2090              835494\n",
      "2095              835494\n",
      "2100              835494\n",
      "Unnamed: 69       886930\n",
      "Length: 70, dtype: int64\n",
      "4 ------------------------------------------------------------------------\n",
      "Le nombre total de données manquantes est : \n",
      " 53455179\n",
      "5 ------------------------------------------------------------------------\n",
      "Le pourcentage des données manquantes est : \n",
      " 86.1 %\n",
      "Il n'y a pas de doublons dans cette base\n",
      "\u001b[34m*******************************************************************************************************\u001b[0m\n",
      "Analyse de la base  \u001b[1m\u001b[31mEdStatsFootNote\u001b[0m :\n",
      "1 ------------------------------------------------------------------------\n",
      "Quelques informations sur la base en utilisant la fonction info():\n",
      "\n",
      "<class 'pandas.core.frame.DataFrame'>\n",
      "RangeIndex: 643638 entries, 0 to 643637\n",
      "Data columns (total 5 columns):\n",
      " #   Column       Non-Null Count   Dtype  \n",
      "---  ------       --------------   -----  \n",
      " 0   CountryCode  643638 non-null  object \n",
      " 1   SeriesCode   643638 non-null  object \n",
      " 2   Year         643638 non-null  object \n",
      " 3   DESCRIPTION  643638 non-null  object \n",
      " 4   Unnamed: 4   0 non-null       float64\n",
      "dtypes: float64(1), object(4)\n",
      "memory usage: 24.6+ MB\n",
      "None\n",
      "2 ------------------------------------------------------------------------\n",
      "Il y a  643638 lignes et  5 colonnes dans la base  EdStatsFootNote\n",
      "3 ------------------------------------------------------------------------\n",
      "Le nombre de données manquantes par colonnes : \n",
      " CountryCode         0\n",
      "SeriesCode          0\n",
      "Year                0\n",
      "DESCRIPTION         0\n",
      "Unnamed: 4     643638\n",
      "dtype: int64\n",
      "4 ------------------------------------------------------------------------\n",
      "Le nombre total de données manquantes est : \n",
      " 643638\n",
      "5 ------------------------------------------------------------------------\n",
      "Le pourcentage des données manquantes est : \n",
      " 20.0 %\n",
      "Il n'y a pas de doublons dans cette base\n",
      "\u001b[34m*******************************************************************************************************\u001b[0m\n",
      "Analyse de la base  \u001b[1m\u001b[31mEdStatsSeries\u001b[0m :\n",
      "1 ------------------------------------------------------------------------\n",
      "Quelques informations sur la base en utilisant la fonction info():\n",
      "\n",
      "<class 'pandas.core.frame.DataFrame'>\n",
      "RangeIndex: 3665 entries, 0 to 3664\n",
      "Data columns (total 21 columns):\n",
      " #   Column                               Non-Null Count  Dtype  \n",
      "---  ------                               --------------  -----  \n",
      " 0   Series Code                          3665 non-null   object \n",
      " 1   Topic                                3665 non-null   object \n",
      " 2   Indicator Name                       3665 non-null   object \n",
      " 3   Short definition                     2156 non-null   object \n",
      " 4   Long definition                      3665 non-null   object \n",
      " 5   Unit of measure                      0 non-null      float64\n",
      " 6   Periodicity                          99 non-null     object \n",
      " 7   Base Period                          314 non-null    object \n",
      " 8   Other notes                          552 non-null    object \n",
      " 9   Aggregation method                   47 non-null     object \n",
      " 10  Limitations and exceptions           14 non-null     object \n",
      " 11  Notes from original source           0 non-null      float64\n",
      " 12  General comments                     14 non-null     object \n",
      " 13  Source                               3665 non-null   object \n",
      " 14  Statistical concept and methodology  23 non-null     object \n",
      " 15  Development relevance                3 non-null      object \n",
      " 16  Related source links                 215 non-null    object \n",
      " 17  Other web links                      0 non-null      float64\n",
      " 18  Related indicators                   0 non-null      float64\n",
      " 19  License Type                         0 non-null      float64\n",
      " 20  Unnamed: 20                          0 non-null      float64\n",
      "dtypes: float64(6), object(15)\n",
      "memory usage: 601.4+ KB\n",
      "None\n",
      "2 ------------------------------------------------------------------------\n",
      "Il y a  3665 lignes et  21 colonnes dans la base  EdStatsSeries\n",
      "3 ------------------------------------------------------------------------\n",
      "Le nombre de données manquantes par colonnes : \n",
      " Series Code                               0\n",
      "Topic                                     0\n",
      "Indicator Name                            0\n",
      "Short definition                       1509\n",
      "Long definition                           0\n",
      "Unit of measure                        3665\n",
      "Periodicity                            3566\n",
      "Base Period                            3351\n",
      "Other notes                            3113\n",
      "Aggregation method                     3618\n",
      "Limitations and exceptions             3651\n",
      "Notes from original source             3665\n",
      "General comments                       3651\n",
      "Source                                    0\n",
      "Statistical concept and methodology    3642\n",
      "Development relevance                  3662\n",
      "Related source links                   3450\n",
      "Other web links                        3665\n",
      "Related indicators                     3665\n",
      "License Type                           3665\n",
      "Unnamed: 20                            3665\n",
      "dtype: int64\n",
      "4 ------------------------------------------------------------------------\n",
      "Le nombre total de données manquantes est : \n",
      " 55203\n",
      "5 ------------------------------------------------------------------------\n",
      "Le pourcentage des données manquantes est : \n",
      " 71.72 %\n",
      "Il n'y a pas de doublons dans cette base\n",
      "\u001b[34m*******************************************************************************************************\u001b[0m\n",
      "Tableau récapitulatif\n"
     ]
    },
    {
     "data": {
      "text/html": [
       "<div>\n",
       "<style scoped>\n",
       "    .dataframe tbody tr th:only-of-type {\n",
       "        vertical-align: middle;\n",
       "    }\n",
       "\n",
       "    .dataframe tbody tr th {\n",
       "        vertical-align: top;\n",
       "    }\n",
       "\n",
       "    .dataframe thead th {\n",
       "        text-align: right;\n",
       "    }\n",
       "</style>\n",
       "<table border=\"1\" class=\"dataframe\">\n",
       "  <thead>\n",
       "    <tr style=\"text-align: right;\">\n",
       "      <th></th>\n",
       "      <th>Colonnes</th>\n",
       "      <th>Lignes</th>\n",
       "      <th>Nbre donnees manquantes</th>\n",
       "      <th>% donnees manquantes</th>\n",
       "      <th>Nbre doublons</th>\n",
       "    </tr>\n",
       "  </thead>\n",
       "  <tbody>\n",
       "    <tr>\n",
       "      <th>EdStatsCountry</th>\n",
       "      <td>32</td>\n",
       "      <td>241</td>\n",
       "      <td>2354</td>\n",
       "      <td>30.52</td>\n",
       "      <td>0</td>\n",
       "    </tr>\n",
       "    <tr>\n",
       "      <th>EdStatsCountry-Series</th>\n",
       "      <td>4</td>\n",
       "      <td>613</td>\n",
       "      <td>613</td>\n",
       "      <td>25.00</td>\n",
       "      <td>0</td>\n",
       "    </tr>\n",
       "    <tr>\n",
       "      <th>EdStatsData</th>\n",
       "      <td>70</td>\n",
       "      <td>886930</td>\n",
       "      <td>53455179</td>\n",
       "      <td>86.10</td>\n",
       "      <td>0</td>\n",
       "    </tr>\n",
       "    <tr>\n",
       "      <th>EdStatsFootNote</th>\n",
       "      <td>5</td>\n",
       "      <td>643638</td>\n",
       "      <td>643638</td>\n",
       "      <td>20.00</td>\n",
       "      <td>0</td>\n",
       "    </tr>\n",
       "    <tr>\n",
       "      <th>EdStatsSeries</th>\n",
       "      <td>21</td>\n",
       "      <td>3665</td>\n",
       "      <td>55203</td>\n",
       "      <td>71.72</td>\n",
       "      <td>0</td>\n",
       "    </tr>\n",
       "  </tbody>\n",
       "</table>\n",
       "</div>"
      ],
      "text/plain": [
       "                       Colonnes  Lignes  Nbre donnees manquantes  \\\n",
       "EdStatsCountry               32     241                     2354   \n",
       "EdStatsCountry-Series         4     613                      613   \n",
       "EdStatsData                  70  886930                 53455179   \n",
       "EdStatsFootNote               5  643638                   643638   \n",
       "EdStatsSeries                21    3665                    55203   \n",
       "\n",
       "                       % donnees manquantes  Nbre doublons  \n",
       "EdStatsCountry                        30.52              0  \n",
       "EdStatsCountry-Series                 25.00              0  \n",
       "EdStatsData                           86.10              0  \n",
       "EdStatsFootNote                       20.00              0  \n",
       "EdStatsSeries                         71.72              0  "
      ]
     },
     "execution_count": 5,
     "metadata": {},
     "output_type": "execute_result"
    }
   ],
   "source": [
    "database = [EdStatsCountry,EdStatsCountry_Series,EdStatsData,EdStatsFootNote,EdStatsSeries]\n",
    "description_jeu_donnees=[]\n",
    "for i in range(len(database)):\n",
    "    desc_base=[]\n",
    "    print ('Analyse de la base ', colored(database_name[i], 'red', attrs=['bold']),':')\n",
    "    print('1 ------------------------------------------------------------------------')\n",
    "    print ('Quelques informations sur la base en utilisant la fonction info():\\n')\n",
    "    print (database[i].info())\n",
    "    print('2 ------------------------------------------------------------------------')\n",
    "    print ('Il y a ', database[i].shape[0], 'lignes et ', database[i].shape[1],'colonnes dans la base ',database_name[i])\n",
    "    desc_base.append(database[i].shape[1])\n",
    "    desc_base.append(database[i].shape[0])\n",
    "        # données manquantes par colonnes\n",
    "    print('3 ------------------------------------------------------------------------')\n",
    "    print('Le nombre de données manquantes par colonnes : \\n',database[i].isna().sum())\n",
    "    # données manquantes dans toute la base\n",
    "    print('4 ------------------------------------------------------------------------')\n",
    "    print('Le nombre total de données manquantes est : \\n',database[i].isna().sum().sum())\n",
    "    desc_base.append(database[i].isna().sum().sum())\n",
    "\n",
    "    # pourcentage des données manquantes \n",
    "    print('5 ------------------------------------------------------------------------')\n",
    "    print('Le pourcentage des données manquantes est : \\n',round(database[i].isna().mean().mean()*100,2),'%')\n",
    "    desc_base.append(round(database[i].isna().mean().mean()*100,2))\n",
    "    # nombre de doublons sur toutes les colonnes\n",
    "    if database[i].duplicated().unique():\n",
    "        print ('Il y a ', database[i].duplicated().sum(), 'lignes dupliquées')\n",
    "        desc_base.append(database[i].duplicated().sum())\n",
    "    else:\n",
    "        print('Il n\\'y a pas de doublons dans cette base')\n",
    "        desc_base.append(0)\n",
    "    print(colored('*******************************************************************************************************', 'blue'))\n",
    "    description_jeu_donnees.append(desc_base)\n",
    "    \n",
    "jeu_donnees=pd.DataFrame(description_jeu_donnees,columns=['Colonnes','Lignes','Nbre donnees manquantes','% donnees manquantes','Nbre doublons'],index=database_name)\n",
    "print('Tableau récapitulatif')\n",
    "jeu_donnees"
   ]
  },
  {
   "cell_type": "markdown",
   "metadata": {
    "_cell_guid": "1d72565b-0573-44af-ae5d-be78c3372744",
    "_uuid": "5fc9ad21-8d7a-4fff-8f14-4b1a418267ce"
   },
   "source": [
    "# 3.   **Analyse approfondie de la base EdStatsData**"
   ]
  },
  {
   "cell_type": "code",
   "execution_count": 6,
   "metadata": {
    "_cell_guid": "738a7ded-b093-4bcc-ab76-08c5693d1656",
    "_uuid": "efe508d1-a52a-45ca-9114-d3fc29fa05d7",
    "execution": {
     "iopub.execute_input": "2022-10-11T11:16:27.356935Z",
     "iopub.status.busy": "2022-10-11T11:16:27.356394Z",
     "iopub.status.idle": "2022-10-11T11:16:27.453981Z",
     "shell.execute_reply": "2022-10-11T11:16:27.452181Z",
     "shell.execute_reply.started": "2022-10-11T11:16:27.356892Z"
    },
    "jupyter": {
     "outputs_hidden": false
    }
   },
   "outputs": [
    {
     "name": "stdout",
     "output_type": "stream",
     "text": [
      "nombre d'indicateurs total :  3665\n"
     ]
    }
   ],
   "source": [
    "#  nombre d'indicateurs total\n",
    "print(\"nombre d'indicateurs total : \",len(EdStatsData['Indicator Code'].unique()))"
   ]
  },
  {
   "cell_type": "markdown",
   "metadata": {
    "_cell_guid": "7e7d4eb2-aa07-41cb-a071-b872166b1c94",
    "_uuid": "4aa007cf-3701-4eaf-b8bf-de7604901d66",
    "execution": {
     "iopub.execute_input": "2022-10-07T06:25:49.368381Z",
     "iopub.status.busy": "2022-10-07T06:25:49.367737Z",
     "iopub.status.idle": "2022-10-07T06:25:49.403631Z",
     "shell.execute_reply": "2022-10-07T06:25:49.402750Z",
     "shell.execute_reply.started": "2022-10-07T06:25:49.368060Z"
    }
   },
   "source": [
    "Les deux colonnes 'Indicator Code' et 'Indicator Name' sont importants pour notre analyse. Ils contiennent les indicateurs à analyser"
   ]
  },
  {
   "cell_type": "code",
   "execution_count": 7,
   "metadata": {
    "_cell_guid": "1fe9539d-569f-44f1-a44a-4a192516bca0",
    "_uuid": "2ecd024c-3a04-440d-afb5-62fe759415ac",
    "execution": {
     "iopub.execute_input": "2022-10-11T11:16:27.457042Z",
     "iopub.status.busy": "2022-10-11T11:16:27.456445Z",
     "iopub.status.idle": "2022-10-11T11:16:29.534599Z",
     "shell.execute_reply": "2022-10-11T11:16:29.532548Z",
     "shell.execute_reply.started": "2022-10-11T11:16:27.456993Z"
    },
    "jupyter": {
     "outputs_hidden": false
    }
   },
   "outputs": [
    {
     "data": {
      "text/html": [
       "<div>\n",
       "<style scoped>\n",
       "    .dataframe tbody tr th:only-of-type {\n",
       "        vertical-align: middle;\n",
       "    }\n",
       "\n",
       "    .dataframe tbody tr th {\n",
       "        vertical-align: top;\n",
       "    }\n",
       "\n",
       "    .dataframe thead th {\n",
       "        text-align: right;\n",
       "    }\n",
       "</style>\n",
       "<table border=\"1\" class=\"dataframe\">\n",
       "  <thead>\n",
       "    <tr style=\"text-align: right;\">\n",
       "      <th></th>\n",
       "      <th>1970</th>\n",
       "      <th>1971</th>\n",
       "      <th>1972</th>\n",
       "      <th>1973</th>\n",
       "      <th>1974</th>\n",
       "      <th>1975</th>\n",
       "      <th>1976</th>\n",
       "      <th>1977</th>\n",
       "      <th>1978</th>\n",
       "      <th>1979</th>\n",
       "      <th>...</th>\n",
       "      <th>2060</th>\n",
       "      <th>2065</th>\n",
       "      <th>2070</th>\n",
       "      <th>2075</th>\n",
       "      <th>2080</th>\n",
       "      <th>2085</th>\n",
       "      <th>2090</th>\n",
       "      <th>2095</th>\n",
       "      <th>2100</th>\n",
       "      <th>Unnamed: 69</th>\n",
       "    </tr>\n",
       "  </thead>\n",
       "  <tbody>\n",
       "    <tr>\n",
       "      <th>count</th>\n",
       "      <td>7.228800e+04</td>\n",
       "      <td>3.553700e+04</td>\n",
       "      <td>3.561900e+04</td>\n",
       "      <td>3.554500e+04</td>\n",
       "      <td>3.573000e+04</td>\n",
       "      <td>8.730600e+04</td>\n",
       "      <td>3.748300e+04</td>\n",
       "      <td>3.757400e+04</td>\n",
       "      <td>3.757600e+04</td>\n",
       "      <td>3.680900e+04</td>\n",
       "      <td>...</td>\n",
       "      <td>5.143600e+04</td>\n",
       "      <td>5.143600e+04</td>\n",
       "      <td>5.143600e+04</td>\n",
       "      <td>5.143600e+04</td>\n",
       "      <td>5.143600e+04</td>\n",
       "      <td>5.143600e+04</td>\n",
       "      <td>5.143600e+04</td>\n",
       "      <td>5.143600e+04</td>\n",
       "      <td>5.143600e+04</td>\n",
       "      <td>0.0</td>\n",
       "    </tr>\n",
       "    <tr>\n",
       "      <th>mean</th>\n",
       "      <td>1.974772e+09</td>\n",
       "      <td>4.253638e+09</td>\n",
       "      <td>4.592365e+09</td>\n",
       "      <td>5.105006e+09</td>\n",
       "      <td>5.401493e+09</td>\n",
       "      <td>2.314288e+09</td>\n",
       "      <td>5.731808e+09</td>\n",
       "      <td>6.124437e+09</td>\n",
       "      <td>6.671489e+09</td>\n",
       "      <td>7.436724e+09</td>\n",
       "      <td>...</td>\n",
       "      <td>7.224868e+02</td>\n",
       "      <td>7.271290e+02</td>\n",
       "      <td>7.283779e+02</td>\n",
       "      <td>7.266484e+02</td>\n",
       "      <td>7.228327e+02</td>\n",
       "      <td>7.176899e+02</td>\n",
       "      <td>7.113072e+02</td>\n",
       "      <td>7.034274e+02</td>\n",
       "      <td>6.940296e+02</td>\n",
       "      <td>NaN</td>\n",
       "    </tr>\n",
       "    <tr>\n",
       "      <th>std</th>\n",
       "      <td>1.211687e+11</td>\n",
       "      <td>1.804814e+11</td>\n",
       "      <td>1.914083e+11</td>\n",
       "      <td>2.059170e+11</td>\n",
       "      <td>2.112150e+11</td>\n",
       "      <td>1.375059e+11</td>\n",
       "      <td>2.215546e+11</td>\n",
       "      <td>2.325489e+11</td>\n",
       "      <td>2.473986e+11</td>\n",
       "      <td>2.660957e+11</td>\n",
       "      <td>...</td>\n",
       "      <td>2.215845e+04</td>\n",
       "      <td>2.287990e+04</td>\n",
       "      <td>2.352338e+04</td>\n",
       "      <td>2.408149e+04</td>\n",
       "      <td>2.455897e+04</td>\n",
       "      <td>2.496587e+04</td>\n",
       "      <td>2.530183e+04</td>\n",
       "      <td>2.556069e+04</td>\n",
       "      <td>2.574189e+04</td>\n",
       "      <td>NaN</td>\n",
       "    </tr>\n",
       "    <tr>\n",
       "      <th>min</th>\n",
       "      <td>-1.435564e+00</td>\n",
       "      <td>-1.594625e+00</td>\n",
       "      <td>-3.056522e+00</td>\n",
       "      <td>-4.032582e+00</td>\n",
       "      <td>-4.213563e+00</td>\n",
       "      <td>-3.658569e+00</td>\n",
       "      <td>-2.950945e+00</td>\n",
       "      <td>-3.174870e+00</td>\n",
       "      <td>-3.558749e+00</td>\n",
       "      <td>-2.973612e+00</td>\n",
       "      <td>...</td>\n",
       "      <td>-1.630000e+00</td>\n",
       "      <td>-1.440000e+00</td>\n",
       "      <td>-1.260000e+00</td>\n",
       "      <td>-1.090000e+00</td>\n",
       "      <td>-9.200000e-01</td>\n",
       "      <td>-7.800000e-01</td>\n",
       "      <td>-6.500000e-01</td>\n",
       "      <td>-5.500000e-01</td>\n",
       "      <td>-4.500000e-01</td>\n",
       "      <td>NaN</td>\n",
       "    </tr>\n",
       "    <tr>\n",
       "      <th>25%</th>\n",
       "      <td>8.900000e-01</td>\n",
       "      <td>8.853210e+00</td>\n",
       "      <td>9.240920e+00</td>\n",
       "      <td>9.595200e+00</td>\n",
       "      <td>9.861595e+00</td>\n",
       "      <td>1.400000e+00</td>\n",
       "      <td>9.312615e+00</td>\n",
       "      <td>9.519913e+00</td>\n",
       "      <td>1.000000e+01</td>\n",
       "      <td>1.000000e+01</td>\n",
       "      <td>...</td>\n",
       "      <td>3.000000e-02</td>\n",
       "      <td>3.000000e-02</td>\n",
       "      <td>2.000000e-02</td>\n",
       "      <td>2.000000e-02</td>\n",
       "      <td>1.000000e-02</td>\n",
       "      <td>1.000000e-02</td>\n",
       "      <td>1.000000e-02</td>\n",
       "      <td>1.000000e-02</td>\n",
       "      <td>1.000000e-02</td>\n",
       "      <td>NaN</td>\n",
       "    </tr>\n",
       "    <tr>\n",
       "      <th>50%</th>\n",
       "      <td>6.317724e+00</td>\n",
       "      <td>6.316240e+01</td>\n",
       "      <td>6.655139e+01</td>\n",
       "      <td>6.969595e+01</td>\n",
       "      <td>7.087760e+01</td>\n",
       "      <td>9.677420e+00</td>\n",
       "      <td>7.101590e+01</td>\n",
       "      <td>7.133326e+01</td>\n",
       "      <td>7.290512e+01</td>\n",
       "      <td>7.510173e+01</td>\n",
       "      <td>...</td>\n",
       "      <td>2.300000e-01</td>\n",
       "      <td>2.300000e-01</td>\n",
       "      <td>2.300000e-01</td>\n",
       "      <td>2.300000e-01</td>\n",
       "      <td>2.300000e-01</td>\n",
       "      <td>2.300000e-01</td>\n",
       "      <td>2.300000e-01</td>\n",
       "      <td>2.300000e-01</td>\n",
       "      <td>2.200000e-01</td>\n",
       "      <td>NaN</td>\n",
       "    </tr>\n",
       "    <tr>\n",
       "      <th>75%</th>\n",
       "      <td>6.251250e+01</td>\n",
       "      <td>5.655200e+04</td>\n",
       "      <td>5.863650e+04</td>\n",
       "      <td>6.202900e+04</td>\n",
       "      <td>6.383675e+04</td>\n",
       "      <td>7.854163e+01</td>\n",
       "      <td>5.682800e+04</td>\n",
       "      <td>5.739175e+04</td>\n",
       "      <td>5.940425e+04</td>\n",
       "      <td>6.411500e+04</td>\n",
       "      <td>...</td>\n",
       "      <td>7.505000e+00</td>\n",
       "      <td>7.500000e+00</td>\n",
       "      <td>7.300000e+00</td>\n",
       "      <td>7.100000e+00</td>\n",
       "      <td>6.722500e+00</td>\n",
       "      <td>6.080000e+00</td>\n",
       "      <td>5.462500e+00</td>\n",
       "      <td>4.680000e+00</td>\n",
       "      <td>4.032500e+00</td>\n",
       "      <td>NaN</td>\n",
       "    </tr>\n",
       "    <tr>\n",
       "      <th>max</th>\n",
       "      <td>1.903929e+13</td>\n",
       "      <td>1.986457e+13</td>\n",
       "      <td>2.100916e+13</td>\n",
       "      <td>2.238367e+13</td>\n",
       "      <td>2.282991e+13</td>\n",
       "      <td>2.300634e+13</td>\n",
       "      <td>2.424128e+13</td>\n",
       "      <td>2.521383e+13</td>\n",
       "      <td>2.622101e+13</td>\n",
       "      <td>2.730873e+13</td>\n",
       "      <td>...</td>\n",
       "      <td>2.951569e+06</td>\n",
       "      <td>3.070879e+06</td>\n",
       "      <td>3.169711e+06</td>\n",
       "      <td>3.246239e+06</td>\n",
       "      <td>3.301586e+06</td>\n",
       "      <td>3.337871e+06</td>\n",
       "      <td>3.354746e+06</td>\n",
       "      <td>3.351887e+06</td>\n",
       "      <td>3.330484e+06</td>\n",
       "      <td>NaN</td>\n",
       "    </tr>\n",
       "  </tbody>\n",
       "</table>\n",
       "<p>8 rows × 66 columns</p>\n",
       "</div>"
      ],
      "text/plain": [
       "               1970          1971          1972          1973          1974  \\\n",
       "count  7.228800e+04  3.553700e+04  3.561900e+04  3.554500e+04  3.573000e+04   \n",
       "mean   1.974772e+09  4.253638e+09  4.592365e+09  5.105006e+09  5.401493e+09   \n",
       "std    1.211687e+11  1.804814e+11  1.914083e+11  2.059170e+11  2.112150e+11   \n",
       "min   -1.435564e+00 -1.594625e+00 -3.056522e+00 -4.032582e+00 -4.213563e+00   \n",
       "25%    8.900000e-01  8.853210e+00  9.240920e+00  9.595200e+00  9.861595e+00   \n",
       "50%    6.317724e+00  6.316240e+01  6.655139e+01  6.969595e+01  7.087760e+01   \n",
       "75%    6.251250e+01  5.655200e+04  5.863650e+04  6.202900e+04  6.383675e+04   \n",
       "max    1.903929e+13  1.986457e+13  2.100916e+13  2.238367e+13  2.282991e+13   \n",
       "\n",
       "               1975          1976          1977          1978          1979  \\\n",
       "count  8.730600e+04  3.748300e+04  3.757400e+04  3.757600e+04  3.680900e+04   \n",
       "mean   2.314288e+09  5.731808e+09  6.124437e+09  6.671489e+09  7.436724e+09   \n",
       "std    1.375059e+11  2.215546e+11  2.325489e+11  2.473986e+11  2.660957e+11   \n",
       "min   -3.658569e+00 -2.950945e+00 -3.174870e+00 -3.558749e+00 -2.973612e+00   \n",
       "25%    1.400000e+00  9.312615e+00  9.519913e+00  1.000000e+01  1.000000e+01   \n",
       "50%    9.677420e+00  7.101590e+01  7.133326e+01  7.290512e+01  7.510173e+01   \n",
       "75%    7.854163e+01  5.682800e+04  5.739175e+04  5.940425e+04  6.411500e+04   \n",
       "max    2.300634e+13  2.424128e+13  2.521383e+13  2.622101e+13  2.730873e+13   \n",
       "\n",
       "       ...          2060          2065          2070          2075  \\\n",
       "count  ...  5.143600e+04  5.143600e+04  5.143600e+04  5.143600e+04   \n",
       "mean   ...  7.224868e+02  7.271290e+02  7.283779e+02  7.266484e+02   \n",
       "std    ...  2.215845e+04  2.287990e+04  2.352338e+04  2.408149e+04   \n",
       "min    ... -1.630000e+00 -1.440000e+00 -1.260000e+00 -1.090000e+00   \n",
       "25%    ...  3.000000e-02  3.000000e-02  2.000000e-02  2.000000e-02   \n",
       "50%    ...  2.300000e-01  2.300000e-01  2.300000e-01  2.300000e-01   \n",
       "75%    ...  7.505000e+00  7.500000e+00  7.300000e+00  7.100000e+00   \n",
       "max    ...  2.951569e+06  3.070879e+06  3.169711e+06  3.246239e+06   \n",
       "\n",
       "               2080          2085          2090          2095          2100  \\\n",
       "count  5.143600e+04  5.143600e+04  5.143600e+04  5.143600e+04  5.143600e+04   \n",
       "mean   7.228327e+02  7.176899e+02  7.113072e+02  7.034274e+02  6.940296e+02   \n",
       "std    2.455897e+04  2.496587e+04  2.530183e+04  2.556069e+04  2.574189e+04   \n",
       "min   -9.200000e-01 -7.800000e-01 -6.500000e-01 -5.500000e-01 -4.500000e-01   \n",
       "25%    1.000000e-02  1.000000e-02  1.000000e-02  1.000000e-02  1.000000e-02   \n",
       "50%    2.300000e-01  2.300000e-01  2.300000e-01  2.300000e-01  2.200000e-01   \n",
       "75%    6.722500e+00  6.080000e+00  5.462500e+00  4.680000e+00  4.032500e+00   \n",
       "max    3.301586e+06  3.337871e+06  3.354746e+06  3.351887e+06  3.330484e+06   \n",
       "\n",
       "       Unnamed: 69  \n",
       "count          0.0  \n",
       "mean           NaN  \n",
       "std            NaN  \n",
       "min            NaN  \n",
       "25%            NaN  \n",
       "50%            NaN  \n",
       "75%            NaN  \n",
       "max            NaN  \n",
       "\n",
       "[8 rows x 66 columns]"
      ]
     },
     "execution_count": 7,
     "metadata": {},
     "output_type": "execute_result"
    }
   ],
   "source": [
    "# Description des données quantitatives \n",
    "EdStatsData.describe()"
   ]
  },
  {
   "cell_type": "code",
   "execution_count": 8,
   "metadata": {
    "_cell_guid": "bd564493-ee02-43f7-8af9-77dcd102e971",
    "_uuid": "1c679720-6f95-47b9-b856-df4dea5c0233",
    "execution": {
     "iopub.execute_input": "2022-10-11T11:16:29.538184Z",
     "iopub.status.busy": "2022-10-11T11:16:29.537717Z",
     "iopub.status.idle": "2022-10-11T11:16:30.400553Z",
     "shell.execute_reply": "2022-10-11T11:16:30.399099Z",
     "shell.execute_reply.started": "2022-10-11T11:16:29.538140Z"
    },
    "jupyter": {
     "outputs_hidden": false
    }
   },
   "outputs": [
    {
     "data": {
      "image/png": "[encoded data removed]",
      "text/plain": [
       "<Figure size 1080x360 with 1 Axes>"
      ]
     },
     "metadata": {
      "needs_background": "light"
     },
     "output_type": "display_data"
    }
   ],
   "source": [
    "# Calcul du taux de remplissage  par année\n",
    "import matplotlib.gridspec as gridspec\n",
    "\n",
    "plt.figure(figsize=(15, 5))\n",
    "G = gridspec.GridSpec(1, 1)\n",
    "\n",
    "ax = plt.subplot(G[0, :])\n",
    "taux_remplissage = 100-EdStatsData.loc[:,'1970':'2100'].isna().mean()*100\n",
    "ax = taux_remplissage.plot(kind='bar', color='red')\n",
    "ax.set_title('Taux de remplissage par années')\n",
    "ax.set_xlabel('Année')\n",
    "ax.set_ylabel('Taux de remplissage')\n",
    "ax.grid(True)\n",
    "plt.show()"
   ]
  },
  {
   "cell_type": "markdown",
   "metadata": {
    "_cell_guid": "0bef8199-7318-4120-9c97-74f9bb86f829",
    "_uuid": "40b08389-0f28-4fef-bdaf-6b39fb467d3f"
   },
   "source": [
    "Les données après 2016 sont représentées par palge de 5 ans.\n",
    "\n",
    "Les données avant 2005 ont un taux de remplissage faible (<15% avec une exception pour l'année 2000) et sont anciennes donc ils nous donnent pas des informations sur l'état actuelle de chaque pays.\n",
    "\n",
    "Conclusion : je ne vais garder que les données sur 10 ans (de 2005 à 2015)"
   ]
  },
  {
   "cell_type": "code",
   "execution_count": 9,
   "metadata": {
    "_cell_guid": "a06acd4e-f280-4be0-8dc5-c74dd3635113",
    "_uuid": "dcbaf49e-acb2-47df-afbb-d94837d3c75b",
    "execution": {
     "iopub.execute_input": "2022-10-11T11:16:30.402558Z",
     "iopub.status.busy": "2022-10-11T11:16:30.402241Z",
     "iopub.status.idle": "2022-10-11T11:16:30.998382Z",
     "shell.execute_reply": "2022-10-11T11:16:30.997251Z",
     "shell.execute_reply.started": "2022-10-11T11:16:30.402528Z"
    },
    "jupyter": {
     "outputs_hidden": false
    }
   },
   "outputs": [
    {
     "data": {
      "text/html": [
       "<div>\n",
       "<style scoped>\n",
       "    .dataframe tbody tr th:only-of-type {\n",
       "        vertical-align: middle;\n",
       "    }\n",
       "\n",
       "    .dataframe tbody tr th {\n",
       "        vertical-align: top;\n",
       "    }\n",
       "\n",
       "    .dataframe thead th {\n",
       "        text-align: right;\n",
       "    }\n",
       "</style>\n",
       "<table border=\"1\" class=\"dataframe\">\n",
       "  <thead>\n",
       "    <tr style=\"text-align: right;\">\n",
       "      <th></th>\n",
       "      <th>Country Name</th>\n",
       "      <th>Country Code</th>\n",
       "      <th>Indicator Name</th>\n",
       "      <th>Indicator Code</th>\n",
       "      <th>2005</th>\n",
       "      <th>2006</th>\n",
       "      <th>2007</th>\n",
       "      <th>2008</th>\n",
       "      <th>2009</th>\n",
       "      <th>2010</th>\n",
       "      <th>2011</th>\n",
       "      <th>2012</th>\n",
       "      <th>2013</th>\n",
       "      <th>2014</th>\n",
       "      <th>2015</th>\n",
       "    </tr>\n",
       "  </thead>\n",
       "  <tbody>\n",
       "    <tr>\n",
       "      <th>0</th>\n",
       "      <td>Arab World</td>\n",
       "      <td>ARB</td>\n",
       "      <td>Adjusted net enrolment rate, lower secondary, ...</td>\n",
       "      <td>UIS.NERA.2</td>\n",
       "      <td>NaN</td>\n",
       "      <td>NaN</td>\n",
       "      <td>NaN</td>\n",
       "      <td>NaN</td>\n",
       "      <td>NaN</td>\n",
       "      <td>NaN</td>\n",
       "      <td>NaN</td>\n",
       "      <td>NaN</td>\n",
       "      <td>NaN</td>\n",
       "      <td>NaN</td>\n",
       "      <td>NaN</td>\n",
       "    </tr>\n",
       "    <tr>\n",
       "      <th>1</th>\n",
       "      <td>Arab World</td>\n",
       "      <td>ARB</td>\n",
       "      <td>Adjusted net enrolment rate, lower secondary, ...</td>\n",
       "      <td>UIS.NERA.2.F</td>\n",
       "      <td>NaN</td>\n",
       "      <td>NaN</td>\n",
       "      <td>NaN</td>\n",
       "      <td>NaN</td>\n",
       "      <td>NaN</td>\n",
       "      <td>NaN</td>\n",
       "      <td>NaN</td>\n",
       "      <td>NaN</td>\n",
       "      <td>NaN</td>\n",
       "      <td>NaN</td>\n",
       "      <td>NaN</td>\n",
       "    </tr>\n",
       "    <tr>\n",
       "      <th>2</th>\n",
       "      <td>Arab World</td>\n",
       "      <td>ARB</td>\n",
       "      <td>Adjusted net enrolment rate, lower secondary, ...</td>\n",
       "      <td>UIS.NERA.2.GPI</td>\n",
       "      <td>NaN</td>\n",
       "      <td>NaN</td>\n",
       "      <td>NaN</td>\n",
       "      <td>NaN</td>\n",
       "      <td>NaN</td>\n",
       "      <td>NaN</td>\n",
       "      <td>NaN</td>\n",
       "      <td>NaN</td>\n",
       "      <td>NaN</td>\n",
       "      <td>NaN</td>\n",
       "      <td>NaN</td>\n",
       "    </tr>\n",
       "    <tr>\n",
       "      <th>3</th>\n",
       "      <td>Arab World</td>\n",
       "      <td>ARB</td>\n",
       "      <td>Adjusted net enrolment rate, lower secondary, ...</td>\n",
       "      <td>UIS.NERA.2.M</td>\n",
       "      <td>NaN</td>\n",
       "      <td>NaN</td>\n",
       "      <td>NaN</td>\n",
       "      <td>NaN</td>\n",
       "      <td>NaN</td>\n",
       "      <td>NaN</td>\n",
       "      <td>NaN</td>\n",
       "      <td>NaN</td>\n",
       "      <td>NaN</td>\n",
       "      <td>NaN</td>\n",
       "      <td>NaN</td>\n",
       "    </tr>\n",
       "    <tr>\n",
       "      <th>4</th>\n",
       "      <td>Arab World</td>\n",
       "      <td>ARB</td>\n",
       "      <td>Adjusted net enrolment rate, primary, both sex...</td>\n",
       "      <td>SE.PRM.TENR</td>\n",
       "      <td>82.489487</td>\n",
       "      <td>82.685509</td>\n",
       "      <td>83.280342</td>\n",
       "      <td>84.011871</td>\n",
       "      <td>84.195961</td>\n",
       "      <td>85.211998</td>\n",
       "      <td>85.24514</td>\n",
       "      <td>86.101669</td>\n",
       "      <td>85.51194</td>\n",
       "      <td>85.320152</td>\n",
       "      <td>NaN</td>\n",
       "    </tr>\n",
       "  </tbody>\n",
       "</table>\n",
       "</div>"
      ],
      "text/plain": [
       "  Country Name Country Code  \\\n",
       "0   Arab World          ARB   \n",
       "1   Arab World          ARB   \n",
       "2   Arab World          ARB   \n",
       "3   Arab World          ARB   \n",
       "4   Arab World          ARB   \n",
       "\n",
       "                                      Indicator Name  Indicator Code  \\\n",
       "0  Adjusted net enrolment rate, lower secondary, ...      UIS.NERA.2   \n",
       "1  Adjusted net enrolment rate, lower secondary, ...    UIS.NERA.2.F   \n",
       "2  Adjusted net enrolment rate, lower secondary, ...  UIS.NERA.2.GPI   \n",
       "3  Adjusted net enrolment rate, lower secondary, ...    UIS.NERA.2.M   \n",
       "4  Adjusted net enrolment rate, primary, both sex...     SE.PRM.TENR   \n",
       "\n",
       "        2005       2006       2007       2008       2009       2010      2011  \\\n",
       "0        NaN        NaN        NaN        NaN        NaN        NaN       NaN   \n",
       "1        NaN        NaN        NaN        NaN        NaN        NaN       NaN   \n",
       "2        NaN        NaN        NaN        NaN        NaN        NaN       NaN   \n",
       "3        NaN        NaN        NaN        NaN        NaN        NaN       NaN   \n",
       "4  82.489487  82.685509  83.280342  84.011871  84.195961  85.211998  85.24514   \n",
       "\n",
       "        2012      2013       2014  2015  \n",
       "0        NaN       NaN        NaN   NaN  \n",
       "1        NaN       NaN        NaN   NaN  \n",
       "2        NaN       NaN        NaN   NaN  \n",
       "3        NaN       NaN        NaN   NaN  \n",
       "4  86.101669  85.51194  85.320152   NaN  "
      ]
     },
     "execution_count": 9,
     "metadata": {},
     "output_type": "execute_result"
    }
   ],
   "source": [
    "# Suppression des colonnes des années avant 2005 et après 2015 et la derniere colonnes 'Unnamed' (colonne vide)\n",
    "df_data =EdStatsData.copy()\n",
    "df_data = df_data.drop(columns = df_data.loc[:,\"1970\":\"2004\"].columns)\n",
    "df_data = df_data.drop(columns = df_data.loc[:,\"2016\":].columns)\n",
    "# affichage de qcq lignes aprés suppression\n",
    "df_data.head()"
   ]
  },
  {
   "cell_type": "markdown",
   "metadata": {
    "_cell_guid": "ad3b2de8-8b93-488a-a91f-6c5f27451a6a",
    "_uuid": "efd172d9-d780-47d7-a640-7e59a610b235"
   },
   "source": [
    "**Nettoyage des indicateurs**"
   ]
  },
  {
   "cell_type": "code",
   "execution_count": 10,
   "metadata": {
    "_cell_guid": "dfde89ae-fee7-4d8a-bbe9-05e2ff255d60",
    "_uuid": "429c303e-a22b-49db-b855-70fb366c9c25",
    "execution": {
     "iopub.execute_input": "2022-10-11T11:16:31.002354Z",
     "iopub.status.busy": "2022-10-11T11:16:30.999935Z",
     "iopub.status.idle": "2022-10-11T11:16:31.257238Z",
     "shell.execute_reply": "2022-10-11T11:16:31.255422Z",
     "shell.execute_reply.started": "2022-10-11T11:16:31.002288Z"
    },
    "jupyter": {
     "outputs_hidden": false
    }
   },
   "outputs": [
    {
     "name": "stdout",
     "output_type": "stream",
     "text": [
      "Nombre de lignes vide à supprimer :  547750\n"
     ]
    }
   ],
   "source": [
    "# Suppression des lignes vides(pas de valeur dans les colonnes années)\n",
    "annee = [str(i) for i in np.arange(2005, 2016, 1)]\n",
    "print(\"Nombre de lignes vide à supprimer : \", len(df_data[df_data.loc[:,annee].isna().all(1)]))\n",
    "df_data = df_data.dropna(how = 'all', subset = annee)"
   ]
  },
  {
   "cell_type": "code",
   "execution_count": 11,
   "metadata": {
    "_cell_guid": "89b82add-f5fd-4c44-a173-58969d8a6bda",
    "_uuid": "305375a8-745f-46fb-a8ef-dc1fa5cc8c5b",
    "execution": {
     "iopub.execute_input": "2022-10-11T11:16:31.261494Z",
     "iopub.status.busy": "2022-10-11T11:16:31.260662Z",
     "iopub.status.idle": "2022-10-11T11:16:31.514517Z",
     "shell.execute_reply": "2022-10-11T11:16:31.512852Z",
     "shell.execute_reply.started": "2022-10-11T11:16:31.261417Z"
    },
    "jupyter": {
     "outputs_hidden": false
    }
   },
   "outputs": [
    {
     "data": {
      "text/plain": [
       "[<matplotlib.lines.Line2D at 0x269a8c89a30>]"
      ]
     },
     "execution_count": 11,
     "metadata": {},
     "output_type": "execute_result"
    },
    {
     "data": {
      "image/png": "[encoded data removed]",
      "text/plain": [
       "<Figure size 432x288 with 1 Axes>"
      ]
     },
     "metadata": {
      "needs_background": "light"
     },
     "output_type": "display_data"
    }
   ],
   "source": [
    "# Calculer le nombre de valeurs de chaque indicateur par année\n",
    "df_data_indicateurs = df_data.groupby('Indicator Code')[annee].count()\n",
    "df_data_indicateurs=df_data_indicateurs.reset_index()\n",
    "# Ajouter une colonne 'Taux_remplissage' pour calculer le pourcentage de remplissage par indicateur sur toutes les années et tous les pays.\n",
    "\n",
    "df_data_indicateurs['Taux_remplissage']=round((df_data_indicateurs[annee].sum(axis=1))*100/(df_data['Country Code'].nunique()*len(annee)),2)\n",
    "quantilee=df_data_indicateurs[['Taux_remplissage']].quantile([0.1,0.25,0.5,0.75,0.8,0.9,0.95])\n",
    "# Afficher un graphique qui représente le taux de remplissage des indicateurs \n",
    "plt.grid(True)\n",
    "plt.title('Taux de remplissage des indicateurs')\n",
    "plt.xlabel('Pourcentage des indicateurs')\n",
    "plt.ylabel('Taux de remplissage')\n",
    "plt.plot(quantilee)"
   ]
  },
  {
   "cell_type": "markdown",
   "metadata": {
    "_cell_guid": "e1865b8e-e88c-4581-9c67-1aafa3749627",
    "_uuid": "1c628247-e89e-485a-aa0d-013774c4c2b5"
   },
   "source": [
    "Sur tous les indicateurs,  20% ont un taux de remplissage supérieur à 30%, et 10% ont un taux de remplissage supérieur à 60%.\n",
    "\n",
    "Je vais choisir 60% comme seuil de taux de remplissage des indicateurs. Ce choix est fait pour avoir un taux de remplissage informatif et ne pas perdre trop d'informations\n",
    "\n",
    "Il nous reste 373 indicateurs à analyser."
   ]
  },
  {
   "cell_type": "code",
   "execution_count": 12,
   "metadata": {
    "_cell_guid": "cc8c4bbe-4b49-4e52-9f4b-d878c03a8e22",
    "_uuid": "1dd97e4e-02e9-4db7-ab46-bdbca079e884",
    "execution": {
     "iopub.execute_input": "2022-10-11T11:16:31.517675Z",
     "iopub.status.busy": "2022-10-11T11:16:31.517268Z",
     "iopub.status.idle": "2022-10-11T11:16:31.755988Z",
     "shell.execute_reply": "2022-10-11T11:16:31.754835Z",
     "shell.execute_reply.started": "2022-10-11T11:16:31.517640Z"
    },
    "jupyter": {
     "outputs_hidden": false
    }
   },
   "outputs": [
    {
     "name": "stdout",
     "output_type": "stream",
     "text": [
      "Indicateurs restants : 373\n",
      "Pays restants : 242\n"
     ]
    }
   ],
   "source": [
    "# Filtrer les données en utilisant un seuil de 60% comme taux de remplissage des indicateurs\n",
    "df_data=pd.merge(df_data,df_data_indicateurs[['Indicator Code','Taux_remplissage']],on ='Indicator Code', how ='inner')\n",
    "df_data=df_data[df_data['Taux_remplissage']>60]\n",
    "\n",
    "print('Indicateurs restants :', df_data['Indicator Code'].nunique())\n",
    "print('Pays restants :', df_data['Country Code'].nunique())"
   ]
  },
  {
   "cell_type": "markdown",
   "metadata": {
    "_cell_guid": "0516c8f8-f305-438f-b162-b85a1f99ee25",
    "_uuid": "9cfaf995-52c1-46c9-af6a-6019f0450aa7"
   },
   "source": [
    "**Choix des indicateurs**"
   ]
  },
  {
   "cell_type": "code",
   "execution_count": 13,
   "metadata": {
    "_cell_guid": "b26284e0-ac8d-4fff-a1eb-38531765ff5c",
    "_uuid": "ee635c18-2aa6-454d-83b9-63a0821fdb90",
    "execution": {
     "iopub.execute_input": "2022-10-11T11:16:31.758066Z",
     "iopub.status.busy": "2022-10-11T11:16:31.757396Z",
     "iopub.status.idle": "2022-10-11T11:16:31.803385Z",
     "shell.execute_reply": "2022-10-11T11:16:31.802118Z",
     "shell.execute_reply.started": "2022-10-11T11:16:31.758030Z"
    },
    "jupyter": {
     "outputs_hidden": false
    }
   },
   "outputs": [],
   "source": [
    "# Ajouter la colonne 'Long definition' pour pouvoir chercher des mots-clés pertinents en utilisant une jointure avec la base EdStatsSeries\n",
    "df_data=pd.merge(df_data,EdStatsSeries[['Indicator Name','Long definition']],on ='Indicator Name', how='inner')"
   ]
  },
  {
   "cell_type": "code",
   "execution_count": 14,
   "metadata": {
    "_cell_guid": "cccc783b-180a-4f45-a39b-821f292a0705",
    "_uuid": "44a5f95c-1904-40aa-bacd-492369178ebc",
    "execution": {
     "iopub.execute_input": "2022-10-11T11:16:31.808247Z",
     "iopub.status.busy": "2022-10-11T11:16:31.807782Z",
     "iopub.status.idle": "2022-10-11T11:16:31.832969Z",
     "shell.execute_reply": "2022-10-11T11:16:31.831618Z",
     "shell.execute_reply.started": "2022-10-11T11:16:31.808208Z"
    },
    "jupyter": {
     "outputs_hidden": false
    }
   },
   "outputs": [
    {
     "data": {
      "text/html": [
       "<div>\n",
       "<style scoped>\n",
       "    .dataframe tbody tr th:only-of-type {\n",
       "        vertical-align: middle;\n",
       "    }\n",
       "\n",
       "    .dataframe tbody tr th {\n",
       "        vertical-align: top;\n",
       "    }\n",
       "\n",
       "    .dataframe thead th {\n",
       "        text-align: right;\n",
       "    }\n",
       "</style>\n",
       "<table border=\"1\" class=\"dataframe\">\n",
       "  <thead>\n",
       "    <tr style=\"text-align: right;\">\n",
       "      <th></th>\n",
       "      <th>Country Name</th>\n",
       "      <th>Country Code</th>\n",
       "      <th>Indicator Name</th>\n",
       "      <th>Indicator Code</th>\n",
       "      <th>2005</th>\n",
       "      <th>2006</th>\n",
       "      <th>2007</th>\n",
       "      <th>2008</th>\n",
       "      <th>2009</th>\n",
       "      <th>2010</th>\n",
       "      <th>2011</th>\n",
       "      <th>2012</th>\n",
       "      <th>2013</th>\n",
       "      <th>2014</th>\n",
       "      <th>2015</th>\n",
       "      <th>Taux_remplissage</th>\n",
       "      <th>Long definition</th>\n",
       "    </tr>\n",
       "  </thead>\n",
       "  <tbody>\n",
       "    <tr>\n",
       "      <th>0</th>\n",
       "      <td>Arab World</td>\n",
       "      <td>ARB</td>\n",
       "      <td>Adjusted net enrolment rate, primary, both sex...</td>\n",
       "      <td>SE.PRM.TENR</td>\n",
       "      <td>82.489487</td>\n",
       "      <td>82.685509</td>\n",
       "      <td>83.280342</td>\n",
       "      <td>84.011871</td>\n",
       "      <td>84.195961</td>\n",
       "      <td>85.211998</td>\n",
       "      <td>85.245140</td>\n",
       "      <td>86.101669</td>\n",
       "      <td>85.511940</td>\n",
       "      <td>85.320152</td>\n",
       "      <td>NaN</td>\n",
       "      <td>63.26</td>\n",
       "      <td>Total number of students of the official prima...</td>\n",
       "    </tr>\n",
       "    <tr>\n",
       "      <th>1</th>\n",
       "      <td>East Asia &amp; Pacific</td>\n",
       "      <td>EAS</td>\n",
       "      <td>Adjusted net enrolment rate, primary, both sex...</td>\n",
       "      <td>SE.PRM.TENR</td>\n",
       "      <td>95.181770</td>\n",
       "      <td>94.709732</td>\n",
       "      <td>95.674072</td>\n",
       "      <td>95.730942</td>\n",
       "      <td>96.068748</td>\n",
       "      <td>96.166069</td>\n",
       "      <td>96.364761</td>\n",
       "      <td>96.322609</td>\n",
       "      <td>96.094063</td>\n",
       "      <td>96.207962</td>\n",
       "      <td>NaN</td>\n",
       "      <td>63.26</td>\n",
       "      <td>Total number of students of the official prima...</td>\n",
       "    </tr>\n",
       "    <tr>\n",
       "      <th>2</th>\n",
       "      <td>East Asia &amp; Pacific (excluding high income)</td>\n",
       "      <td>EAP</td>\n",
       "      <td>Adjusted net enrolment rate, primary, both sex...</td>\n",
       "      <td>SE.PRM.TENR</td>\n",
       "      <td>94.885033</td>\n",
       "      <td>94.360008</td>\n",
       "      <td>95.386147</td>\n",
       "      <td>95.439133</td>\n",
       "      <td>95.812241</td>\n",
       "      <td>95.923203</td>\n",
       "      <td>96.133148</td>\n",
       "      <td>96.097107</td>\n",
       "      <td>95.901901</td>\n",
       "      <td>96.025803</td>\n",
       "      <td>NaN</td>\n",
       "      <td>63.26</td>\n",
       "      <td>Total number of students of the official prima...</td>\n",
       "    </tr>\n",
       "  </tbody>\n",
       "</table>\n",
       "</div>"
      ],
      "text/plain": [
       "                                  Country Name Country Code  \\\n",
       "0                                   Arab World          ARB   \n",
       "1                          East Asia & Pacific          EAS   \n",
       "2  East Asia & Pacific (excluding high income)          EAP   \n",
       "\n",
       "                                      Indicator Name Indicator Code  \\\n",
       "0  Adjusted net enrolment rate, primary, both sex...    SE.PRM.TENR   \n",
       "1  Adjusted net enrolment rate, primary, both sex...    SE.PRM.TENR   \n",
       "2  Adjusted net enrolment rate, primary, both sex...    SE.PRM.TENR   \n",
       "\n",
       "        2005       2006       2007       2008       2009       2010  \\\n",
       "0  82.489487  82.685509  83.280342  84.011871  84.195961  85.211998   \n",
       "1  95.181770  94.709732  95.674072  95.730942  96.068748  96.166069   \n",
       "2  94.885033  94.360008  95.386147  95.439133  95.812241  95.923203   \n",
       "\n",
       "        2011       2012       2013       2014  2015  Taux_remplissage  \\\n",
       "0  85.245140  86.101669  85.511940  85.320152   NaN             63.26   \n",
       "1  96.364761  96.322609  96.094063  96.207962   NaN             63.26   \n",
       "2  96.133148  96.097107  95.901901  96.025803   NaN             63.26   \n",
       "\n",
       "                                     Long definition  \n",
       "0  Total number of students of the official prima...  \n",
       "1  Total number of students of the official prima...  \n",
       "2  Total number of students of the official prima...  "
      ]
     },
     "execution_count": 14,
     "metadata": {},
     "output_type": "execute_result"
    }
   ],
   "source": [
    "# Afficher quelques lignes de la base après l'ajout d'une colonne\n",
    "df_data.head(3)"
   ]
  },
  {
   "cell_type": "markdown",
   "metadata": {
    "_cell_guid": "4cd211c2-8c92-4d2e-8f46-69ad27eca684",
    "_uuid": "e7b39b30-ad5e-4d29-8875-77f9c49921ab"
   },
   "source": [
    "**Recherche des indicateurs pertinents par mots-clés**"
   ]
  },
  {
   "cell_type": "markdown",
   "metadata": {
    "_cell_guid": "89746243-1d27-4269-8d86-fc3920bc53fc",
    "_uuid": "ceb5b730-9904-49df-8cdd-10e54f70d064"
   },
   "source": [
    "Activité de l'entreprise : formations en ligne pour les lycéens et les étudiants.\n",
    "\n",
    "Il faut choisir la bonne tranche d'age (mots-clés: school,education, 15,20 et 24) \n",
    "\n",
    "Il faut choisir une bonne connexion Internet (mots-clés: Internet) \n",
    "\n",
    "Il faut choisir un bon pouvoir d'acaht (mots-clés: gdp et economy)\n",
    "\n",
    "Il faut choisir une population élevée (mots-clés: demography)"
   ]
  },
  {
   "cell_type": "code",
   "execution_count": 15,
   "metadata": {
    "_cell_guid": "06f8a11d-7d0c-49d9-8fb8-f0a5395626d0",
    "_uuid": "16351acc-83f9-451a-a686-c1abfc686a72",
    "execution": {
     "iopub.execute_input": "2022-10-11T11:16:31.835697Z",
     "iopub.status.busy": "2022-10-11T11:16:31.835216Z",
     "iopub.status.idle": "2022-10-11T11:16:31.846777Z",
     "shell.execute_reply": "2022-10-11T11:16:31.845396Z",
     "shell.execute_reply.started": "2022-10-11T11:16:31.835651Z"
    },
    "jupyter": {
     "outputs_hidden": false
    }
   },
   "outputs": [],
   "source": [
    "# Définir une liste de mots-clés suivant les critères choisis\n",
    "liste_motscles=['demography','15','20','24','gdp','economy','internet','school','education']"
   ]
  },
  {
   "cell_type": "code",
   "execution_count": 16,
   "metadata": {
    "_cell_guid": "a5e11967-c0c8-41f8-9d01-4c3b1a8ca92b",
    "_uuid": "89de909d-889c-4e38-a155-a62ae67ccd56",
    "execution": {
     "iopub.execute_input": "2022-10-11T11:16:31.849235Z",
     "iopub.status.busy": "2022-10-11T11:16:31.848824Z",
     "iopub.status.idle": "2022-10-11T11:16:32.022126Z",
     "shell.execute_reply": "2022-10-11T11:16:32.020036Z",
     "shell.execute_reply.started": "2022-10-11T11:16:31.849205Z"
    },
    "jupyter": {
     "outputs_hidden": false
    }
   },
   "outputs": [
    {
     "name": "stdout",
     "output_type": "stream",
     "text": [
      "Nous avons 178 indicateurs qui peuvent nous intéressent\n"
     ]
    }
   ],
   "source": [
    "# mettre la colonne 'Long definition' en minuscule pour chercher un seul mot-clé (par exemple 'internet' pour 'internet' et ' Internet')\n",
    "df_data['Long definition'] = df_data['Long definition'].str.lower()\n",
    "# chercher les mots-clés définis dans la colonne 'Long Definition'\n",
    "liste_indicateurs=df_data[df_data['Long definition'].str.contains(\"|\".join(liste_motscles))]['Indicator Name'].unique()\n",
    "# Afficher le nombre d'indicateurs trouvés\n",
    "print('Nous avons', len(liste_indicateurs), 'indicateurs qui peuvent nous intéressent')"
   ]
  },
  {
   "cell_type": "code",
   "execution_count": 17,
   "metadata": {
    "_cell_guid": "d263bcac-9122-4281-86fd-034fbe975c26",
    "_uuid": "0fe7865b-3db3-4019-9870-b66d89485993",
    "execution": {
     "iopub.execute_input": "2022-10-11T11:16:32.027056Z",
     "iopub.status.busy": "2022-10-11T11:16:32.026282Z",
     "iopub.status.idle": "2022-10-11T11:16:32.037569Z",
     "shell.execute_reply": "2022-10-11T11:16:32.035957Z",
     "shell.execute_reply.started": "2022-10-11T11:16:32.026994Z"
    },
    "jupyter": {
     "outputs_hidden": false
    }
   },
   "outputs": [
    {
     "name": "stdout",
     "output_type": "stream",
     "text": [
      "La liste des indicateurs qui peuvent nous intéresser après  sélection par mots cles:\n",
      "Adjusted net enrolment rate, primary, both sexes (%)\n",
      "Enrolment in Grade 1 of primary education, both sexes (number)\n",
      "Enrolment in Grade 1 of primary education, female (number)\n",
      "Enrolment in Grade 2 of primary education, both sexes (number)\n",
      "Enrolment in Grade 2 of primary education, female (number)\n",
      "Enrolment in Grade 3 of primary education, both sexes (number)\n",
      "Enrolment in Grade 3 of primary education, female (number)\n",
      "Enrolment in Grade 4 of primary education, both sexes (number)\n",
      "Enrolment in Grade 4 of primary education, female (number)\n",
      "Enrolment in lower secondary education, both sexes (number)\n",
      "Enrolment in lower secondary education, female (number)\n",
      "Enrolment in lower secondary general, both sexes (number)\n",
      "Enrolment in lower secondary general, female (number)\n",
      "Enrolment in pre-primary education, both sexes (number)\n",
      "Enrolment in pre-primary education, female (number)\n",
      "Enrolment in primary education, both sexes (number)\n",
      "Enrolment in primary education, female (number)\n",
      "Enrolment in primary education, private institutions, both sexes (number)\n",
      "Enrolment in secondary education, both sexes (number)\n",
      "Enrolment in secondary education, female (number)\n",
      "Enrolment in secondary general, both sexes (number)\n",
      "Enrolment in secondary general, female (number)\n",
      "Enrolment in secondary vocational, both sexes (number)\n",
      "Enrolment in secondary vocational, female (number)\n",
      "Enrolment in tertiary education, all programmes, both sexes (number)\n",
      "Enrolment in tertiary education, all programmes, female (number)\n",
      "Enrolment in upper secondary education, both sexes (number)\n",
      "Enrolment in upper secondary education, female (number)\n",
      "Enrolment in upper secondary general, both sexes (number)\n",
      "Enrolment in upper secondary general, female (number)\n",
      "GDP per capita (current US$)\n",
      "GDP per capita, PPP (constant 2011 international $)\n",
      "GDP per capita, PPP (current international $)\n",
      "GDP, PPP (constant 2011 international $)\n",
      "GDP, PPP (current international $)\n",
      "GNI per capita, Atlas method (current US$)\n",
      "GNI per capita, PPP (current international $)\n",
      "GNI, PPP (current international $)\n",
      "Gross enrolment ratio, lower secondary, both sexes (%)\n",
      "Gross enrolment ratio, lower secondary, female (%)\n",
      "Gross enrolment ratio, lower secondary, male (%)\n",
      "Gross enrolment ratio, pre-primary, both sexes (%)\n",
      "Gross enrolment ratio, pre-primary, female (%)\n",
      "Gross enrolment ratio, pre-primary, male (%)\n",
      "Gross enrolment ratio, primary and lower secondary, both sexes (%)\n",
      "Gross enrolment ratio, primary and lower secondary, female (%)\n",
      "Gross enrolment ratio, primary and lower secondary, male (%)\n",
      "Gross enrolment ratio, primary and secondary, both sexes (%)\n",
      "Gross enrolment ratio, primary and secondary, female (%)\n",
      "Gross enrolment ratio, primary and secondary, male (%)\n",
      "Gross enrolment ratio, primary, both sexes (%)\n",
      "Gross enrolment ratio, primary, female (%)\n",
      "Gross enrolment ratio, primary, male (%)\n",
      "Gross enrolment ratio, secondary, both sexes (%)\n",
      "Gross enrolment ratio, secondary, female (%)\n",
      "Gross enrolment ratio, secondary, male (%)\n",
      "Gross enrolment ratio, tertiary, both sexes (%)\n",
      "Gross enrolment ratio, upper secondary, both sexes (%)\n",
      "Gross enrolment ratio, upper secondary, female (%)\n",
      "Gross enrolment ratio, upper secondary, male (%)\n",
      "Gross intake ratio to Grade 1 of primary education, both sexes (%)\n",
      "Gross intake ratio to Grade 1 of primary education, female (%)\n",
      "Gross intake ratio to Grade 1 of primary education, male (%)\n",
      "Internet users (per 100 people)\n",
      "Labor force, female (% of total labor force)\n",
      "Labor force, total\n",
      "Net enrolment rate, primary, both sexes (%)\n",
      "New entrants to Grade 1 of primary education, both sexes (number)\n",
      "New entrants to Grade 1 of primary education, female (number)\n",
      "New entrants to Grade 1 of primary education, percentage female (%)\n",
      "Out-of-school children of primary school age, both sexes (number)\n",
      "Percentage of enrolment in pre-primary education in private institutions (%)\n",
      "Percentage of enrolment in primary education in private institutions (%)\n",
      "Percentage of enrolment in secondary education in private institutions (%)\n",
      "Percentage of female students in lower secondary education enrolled in general programmes, female (%)\n",
      "Percentage of female students in secondary education enrolled in general programmes, female (%)\n",
      "Percentage of female students in secondary education enrolled in vocational programmes, female (%)\n",
      "Percentage of female students in upper secondary education enrolled in general programmes, female (%)\n",
      "Percentage of male students in lower secondary education enrolled in general programmes, male (%)\n",
      "Percentage of male students in secondary education enrolled in general programmes, male (%)\n",
      "Percentage of male students in secondary education enrolled in vocational programmes, male (%)\n",
      "Percentage of male students in upper secondary education enrolled in general programmes, male (%)\n",
      "Percentage of repeaters in primary education, all grades, both sexes (%)\n",
      "Percentage of repeaters in primary education, all grades, female (%)\n",
      "Percentage of repeaters in primary education, all grades, male (%)\n",
      "Percentage of students in lower secondary education enrolled in general programmes, both sexes (%)\n",
      "Percentage of students in lower secondary education who are female (%)\n",
      "Percentage of students in pre-primary education who are female (%)\n",
      "Percentage of students in primary education who are female (%)\n",
      "Percentage of students in secondary education enrolled in general programmes, both sexes (%)\n",
      "Percentage of students in secondary education enrolled in vocational programmes, both sexes (%)\n",
      "Percentage of students in secondary education who are female (%)\n",
      "Percentage of students in secondary general education who are female (%)\n",
      "Percentage of students in tertiary education who are female (%)\n",
      "Percentage of students in upper secondary education enrolled in general programmes, both sexes (%)\n",
      "Percentage of students in upper secondary education who are female (%)\n",
      "Percentage of students in upper secondary general education who are female (%)\n",
      "Percentage of teachers in primary education who are female (%)\n",
      "Population of the official age for lower secondary education, both sexes (number)\n",
      "Population of the official age for lower secondary education, female (number)\n",
      "Population of the official age for lower secondary education, male (number)\n",
      "Population of the official age for post-secondary non-tertiary education, both sexes (number)\n",
      "Population of the official age for post-secondary non-tertiary education, female (number)\n",
      "Population of the official age for post-secondary non-tertiary education, male (number)\n",
      "Population of the official age for pre-primary education, both sexes (number)\n",
      "Population of the official age for pre-primary education, female (number)\n",
      "Population of the official age for pre-primary education, male (number)\n",
      "Population of the official age for primary education, both sexes (number)\n",
      "Population of the official age for primary education, female (number)\n",
      "Population of the official age for primary education, male (number)\n",
      "Population of the official age for secondary education, both sexes (number)\n",
      "Population of the official age for secondary education, female (number)\n",
      "Population of the official age for secondary education, male (number)\n",
      "Population of the official age for tertiary education, both sexes (number)\n",
      "Population of the official age for tertiary education, female (number)\n",
      "Population of the official age for tertiary education, male (number)\n",
      "Population of the official age for the last grade of primary education, both sexes (number)\n",
      "Population of the official age for the last grade of primary education, female (number)\n",
      "Population of the official age for the last grade of primary education, male (number)\n",
      "Population of the official age for upper secondary education, both sexes (number)\n",
      "Population of the official age for upper secondary education, female (number)\n",
      "Population of the official age for upper secondary education, male (number)\n",
      "Population of the official entrance age to primary education, both sexes (number)\n",
      "Population of the official entrance age to primary education, female (number)\n",
      "Population of the official entrance age to primary education, male (number)\n",
      "Population of the official entrance age to secondary general education, both sexes (number)\n",
      "Population of the official entrance age to secondary general education, female (number)\n",
      "Population of the official entrance age to secondary general education, male (number)\n",
      "Prevalence of HIV, total (% of population ages 15-49)\n",
      "Primary completion rate, both sexes (%)\n",
      "Primary completion rate, female (%)\n",
      "Primary completion rate, male (%)\n",
      "Pupil-teacher ratio in primary education (headcount basis)\n",
      "Rate of out-of-school children of primary school age, both sexes (%)\n",
      "School life expectancy, pre-primary, both sexes (years)\n",
      "School life expectancy, primary and lower secondary, both sexes (years)\n",
      "School life expectancy, primary and lower secondary, female (years)\n",
      "School life expectancy, primary and lower secondary, male (years)\n",
      "School life expectancy, primary and secondary, both sexes (years)\n",
      "School life expectancy, primary and secondary, female (years)\n",
      "School life expectancy, primary and secondary, gender parity index (GPI)\n",
      "School life expectancy, primary and secondary, male (years)\n",
      "School life expectancy, primary, both sexes (years)\n",
      "School life expectancy, primary, female (years)\n",
      "School life expectancy, primary, male (years)\n",
      "Teachers in primary education, both sexes (number)\n",
      "Teachers in primary education, female (number)\n",
      "Total outbound internationally mobile tertiary students studying abroad, all countries, both sexes (number)\n",
      "Duration of compulsory education (years)\n",
      "Official entrance age to compulsory education (years)\n",
      "Official entrance age to lower secondary education (years)\n",
      "Official entrance age to pre-primary education (years)\n",
      "Official entrance age to primary education (years)\n",
      "Official entrance age to upper secondary education (years)\n",
      "Percentage of students in lower secondary general education who are female (%)\n",
      "Population of compulsory school age, both sexes (number)\n",
      "Population of compulsory school age, female (number)\n",
      "Population of compulsory school age, male (number)\n",
      "Population, age 15, male\n",
      "Population, age 20, male\n",
      "Population, age 24, male\n",
      "Population, ages 10-15, female\n",
      "Population, ages 10-15, male\n",
      "Population, ages 10-15, total\n",
      "Population, ages 11-15, female\n",
      "Population, ages 11-15, male\n",
      "Population, ages 11-15, total\n",
      "Population, ages 12-15, female\n",
      "Population, ages 12-15, male\n",
      "Population, ages 12-15, total\n",
      "Population, ages 15-24, female\n",
      "Population, ages 15-24, male\n",
      "Population, ages 15-24, total\n",
      "Theoretical duration of lower secondary education (years)\n",
      "Theoretical duration of pre-primary education (years)\n",
      "Theoretical duration of primary education (years)\n",
      "Theoretical duration of secondary education (years)\n",
      "Theoretical duration of upper secondary education (years)\n"
     ]
    }
   ],
   "source": [
    "# Affiher la liste des indicateurs trouvés\n",
    "print('La liste des indicateurs qui peuvent nous intéresser après  sélection par mots cles:')\n",
    "for k in liste_indicateurs:\n",
    "    print(k)"
   ]
  },
  {
   "cell_type": "markdown",
   "metadata": {
    "_cell_guid": "cf5a5f1e-aed4-47f8-8035-4792f8bf72fa",
    "_uuid": "f6e8d49a-c7a0-4dd1-99bd-34f9c024b423"
   },
   "source": [
    "Après avoir analyser la liste des indicateurs trouvés, j'ai choisi seulement 5 indicateurs de la liste ('GNI per capita, PPP (current international $)','Internet users (per 100 people)','Population, ages 15-24, total','Gross enrolment ratio, secondary, both sexes (%)' et 'Gross enrolment ratio, tertiary, both sexes (%)').\n",
    "\n",
    "Nous pouvons évidemment choisir d'autres indicateurs qui sont pertinents pour l'activité de l'entreprise comme '' mais dans l'énoncé de ce projet, il a été demandé de ne sélectionner que 4 ou 5 indicateurs.\n",
    "\n",
    "Pour le choix de l'indicateur GNI et non GDP, on peut consulter cette page [investopedia](https://www.investopedia.com/terms/g/gross-national-income-gni.asp)"
   ]
  },
  {
   "cell_type": "code",
   "execution_count": 18,
   "metadata": {
    "_cell_guid": "d76ae0c2-8307-49be-aabc-e9eb2a77f285",
    "_uuid": "635432f0-9592-4fdf-ba76-9c5ef12c737c",
    "execution": {
     "iopub.execute_input": "2022-10-11T11:16:32.039620Z",
     "iopub.status.busy": "2022-10-11T11:16:32.039152Z",
     "iopub.status.idle": "2022-10-11T11:16:32.111188Z",
     "shell.execute_reply": "2022-10-11T11:16:32.109769Z",
     "shell.execute_reply.started": "2022-10-11T11:16:32.039554Z"
    },
    "jupyter": {
     "outputs_hidden": false
    }
   },
   "outputs": [
    {
     "name": "stdout",
     "output_type": "stream",
     "text": [
      "La liste des codes desindicateurs est :  ['IT.NET.USER.P2', 'NY.GNP.PCAP.PP.CD', 'SE.SEC.ENRR', 'SE.TER.ENRR', 'SP.POP.1524.TO.UN']\n"
     ]
    }
   ],
   "source": [
    "liste_nom_indicateurs_finale=['Internet users (per 100 people)',\n",
    "                              'GNI per capita, PPP (current international $)',           \n",
    "                              'Gross enrolment ratio, secondary, both sexes (%)',\n",
    "                              'Gross enrolment ratio, tertiary, both sexes (%)',\n",
    "                              'Population, ages 15-24, total']\n",
    "# chercher le code de correspondant à chaque indicateur\n",
    "liste_code_indicateurs_finale=[]\n",
    "for k in liste_nom_indicateurs_finale:\n",
    "    liste_code_indicateurs_finale.append(df_data.loc[df_data['Indicator Name']==k,'Indicator Code'].unique()[0])\n",
    "print('La liste des codes desindicateurs est : ' ,liste_code_indicateurs_finale)"
   ]
  },
  {
   "cell_type": "code",
   "execution_count": 19,
   "metadata": {
    "_cell_guid": "758065fd-3d60-4841-a047-524f58eea89c",
    "_uuid": "e90bcdd4-e0f6-48f0-aa11-a23b86b600f8",
    "execution": {
     "iopub.execute_input": "2022-10-11T11:16:32.113322Z",
     "iopub.status.busy": "2022-10-11T11:16:32.112979Z",
     "iopub.status.idle": "2022-10-11T11:16:32.121690Z",
     "shell.execute_reply": "2022-10-11T11:16:32.119909Z",
     "shell.execute_reply.started": "2022-10-11T11:16:32.113287Z"
    },
    "jupyter": {
     "outputs_hidden": false
    }
   },
   "outputs": [],
   "source": [
    "# donner des abréviations au noms d'indicateurs retenus\n",
    "# Richesse pour 'GNI per capita, PPP (current international $)'\n",
    "# Internet pour \n",
    "# Population_15_24 pour\n",
    "# Lycéens pour 'Gross enrolment ratio, secondary, both sexes (%)''\n",
    "# Etudiants pour 'Gross enrolment ratio, tertiary, both sexes (%)'\n",
    "liste_nom_indicateurs_finale=['Internet', 'Richesse'  ,'Lycéens' , 'Etudiants','Population_15_24']"
   ]
  },
  {
   "cell_type": "code",
   "execution_count": 20,
   "metadata": {
    "_cell_guid": "8c8ef458-ea30-4ab1-954a-3981033d648e",
    "_uuid": "b18ca3dd-4fb7-4262-afe4-8174a8381caa",
    "execution": {
     "iopub.execute_input": "2022-10-11T11:16:32.124244Z",
     "iopub.status.busy": "2022-10-11T11:16:32.123784Z",
     "iopub.status.idle": "2022-10-11T11:16:32.165320Z",
     "shell.execute_reply": "2022-10-11T11:16:32.162868Z",
     "shell.execute_reply.started": "2022-10-11T11:16:32.124208Z"
    },
    "jupyter": {
     "outputs_hidden": false
    }
   },
   "outputs": [
    {
     "name": "stdout",
     "output_type": "stream",
     "text": [
      "Le nombre d'indicateurs restants : 5\n",
      "Le nombre de pays restants : 235\n"
     ]
    }
   ],
   "source": [
    "# Suppresion des indicateurs non appertenant à la liste choisie\n",
    "df_data=df_data[df_data['Indicator Code'].isin(liste_code_indicateurs_finale)]\n",
    "#print(df_data.info())\n",
    "print('Le nombre d\\'indicateurs restants :', df_data['Indicator Code'].nunique())\n",
    "print('Le nombre de pays restants :', df_data['Country Code'].nunique())"
   ]
  },
  {
   "cell_type": "code",
   "execution_count": 21,
   "metadata": {
    "_cell_guid": "9f5a39fa-0245-449d-a894-7e1eb88e88bd",
    "_uuid": "597cf07c-efe1-4be7-a317-96a7eb6a6372",
    "execution": {
     "iopub.execute_input": "2022-10-11T11:16:32.167195Z",
     "iopub.status.busy": "2022-10-11T11:16:32.166841Z",
     "iopub.status.idle": "2022-10-11T11:16:32.172852Z",
     "shell.execute_reply": "2022-10-11T11:16:32.171560Z",
     "shell.execute_reply.started": "2022-10-11T11:16:32.167165Z"
    },
    "jupyter": {
     "outputs_hidden": false
    }
   },
   "outputs": [],
   "source": [
    "# ré-indexer la base après suppression de données\n",
    "df_data=df_data.reset_index(drop = True)\n",
    "#df_data.head()"
   ]
  },
  {
   "cell_type": "code",
   "execution_count": 22,
   "metadata": {
    "_cell_guid": "60104013-d70c-4ce9-9101-9b95f97d36ae",
    "_uuid": "c54f47f1-2e75-496e-b2b0-2c5b8ce44832",
    "execution": {
     "iopub.execute_input": "2022-10-11T11:16:32.174917Z",
     "iopub.status.busy": "2022-10-11T11:16:32.174553Z",
     "iopub.status.idle": "2022-10-11T11:16:32.197965Z",
     "shell.execute_reply": "2022-10-11T11:16:32.196767Z",
     "shell.execute_reply.started": "2022-10-11T11:16:32.174883Z"
    },
    "jupyter": {
     "outputs_hidden": false
    }
   },
   "outputs": [
    {
     "name": "stdout",
     "output_type": "stream",
     "text": [
      "Sur un total de  235  pays, nous avons :\n"
     ]
    },
    {
     "data": {
      "text/plain": [
       "Indicator Code\n",
       "IT.NET.USER.P2       229\n",
       "NY.GNP.PCAP.PP.CD    214\n",
       "SE.SEC.ENRR          214\n",
       "SE.TER.ENRR          197\n",
       "SP.POP.1524.TO.UN    191\n",
       "Name: Country Name, dtype: int64"
      ]
     },
     "execution_count": 22,
     "metadata": {},
     "output_type": "execute_result"
    }
   ],
   "source": [
    "# Vérification de la représentation des indicateurs sur les pays\n",
    "print(\"Sur un total de \", df_data['Country Code'].nunique(), \" pays, nous avons :\")\n",
    "df_data.loc[df_data[\"Indicator Code\"].isin(liste_code_indicateurs_finale),:].groupby(['Indicator Code']).count()['Country Name']"
   ]
  },
  {
   "cell_type": "markdown",
   "metadata": {
    "_cell_guid": "d4b74b6c-b70b-4c3e-9383-bfdf1fed0f53",
    "_uuid": "266f5010-fd20-4401-8163-9ad3d9cdaaef"
   },
   "source": [
    "Nous remarquons bien que les indicateurs choisis sont bien présents pour la majorités des pays. Par exemple l'indicateur 'SE.TER.ENRR' est présent pour 197 pays"
   ]
  },
  {
   "cell_type": "code",
   "execution_count": 23,
   "metadata": {
    "_cell_guid": "2c6a2939-e760-4cdf-892e-b6a49d81f329",
    "_uuid": "5eee495c-3d01-49d3-ac62-bbe802fe74b8",
    "execution": {
     "iopub.execute_input": "2022-10-11T11:16:32.201123Z",
     "iopub.status.busy": "2022-10-11T11:16:32.200509Z",
     "iopub.status.idle": "2022-10-11T11:16:32.327178Z",
     "shell.execute_reply": "2022-10-11T11:16:32.326105Z",
     "shell.execute_reply.started": "2022-10-11T11:16:32.201076Z"
    },
    "jupyter": {
     "outputs_hidden": false
    }
   },
   "outputs": [
    {
     "data": {
      "text/plain": [
       "0"
      ]
     },
     "execution_count": 23,
     "metadata": {},
     "output_type": "execute_result"
    }
   ],
   "source": [
    "# Tourner le dataframe pour remplacer les valeurs nulles par la derniere valeur de la ligne et non de la colonne\n",
    "df_data=df_data.T\n",
    "#remplacer par la dernière valeur\n",
    "df_data.loc['2005':'2015',:].fillna(method='ffill', inplace=True)\n",
    "#remplacer par la prochaine valeur pour la première ligne\n",
    "\n",
    "df_data.loc['2005':'2015',:].fillna(method='bfill', inplace=True)\n",
    "# retourner au dataframe d'origine\n",
    "df_data=df_data.T\n",
    "df_data.isnull().sum().sum()"
   ]
  },
  {
   "cell_type": "code",
   "execution_count": 24,
   "metadata": {
    "_cell_guid": "f1e1878b-b365-47b4-b99c-a27d094c2a6a",
    "_uuid": "f3dc127a-bda1-4987-baec-e3748afa0608",
    "execution": {
     "iopub.execute_input": "2022-10-11T11:16:32.331089Z",
     "iopub.status.busy": "2022-10-11T11:16:32.329446Z",
     "iopub.status.idle": "2022-10-11T11:16:32.337251Z",
     "shell.execute_reply": "2022-10-11T11:16:32.335587Z",
     "shell.execute_reply.started": "2022-10-11T11:16:32.331046Z"
    },
    "jupyter": {
     "outputs_hidden": false
    }
   },
   "outputs": [],
   "source": [
    "df_data2=df_data.copy()"
   ]
  },
  {
   "cell_type": "code",
   "execution_count": 25,
   "metadata": {
    "_cell_guid": "a651f2b0-cc94-40d2-85ae-7eb23d443b80",
    "_uuid": "35127f46-835e-4c83-859f-15bcc031fc61",
    "execution": {
     "iopub.execute_input": "2022-10-11T11:16:32.339161Z",
     "iopub.status.busy": "2022-10-11T11:16:32.338791Z",
     "iopub.status.idle": "2022-10-11T11:16:32.372165Z",
     "shell.execute_reply": "2022-10-11T11:16:32.370860Z",
     "shell.execute_reply.started": "2022-10-11T11:16:32.339131Z"
    },
    "jupyter": {
     "outputs_hidden": false
    }
   },
   "outputs": [
    {
     "data": {
      "text/html": [
       "<div>\n",
       "<style scoped>\n",
       "    .dataframe tbody tr th:only-of-type {\n",
       "        vertical-align: middle;\n",
       "    }\n",
       "\n",
       "    .dataframe tbody tr th {\n",
       "        vertical-align: top;\n",
       "    }\n",
       "\n",
       "    .dataframe thead th {\n",
       "        text-align: right;\n",
       "    }\n",
       "</style>\n",
       "<table border=\"1\" class=\"dataframe\">\n",
       "  <thead>\n",
       "    <tr style=\"text-align: right;\">\n",
       "      <th></th>\n",
       "      <th>Country Name</th>\n",
       "      <th>Country Code</th>\n",
       "      <th>Indicator Name</th>\n",
       "      <th>Indicator Code</th>\n",
       "      <th>2005</th>\n",
       "      <th>2006</th>\n",
       "      <th>2007</th>\n",
       "      <th>2008</th>\n",
       "      <th>2009</th>\n",
       "      <th>2010</th>\n",
       "      <th>2011</th>\n",
       "      <th>2012</th>\n",
       "      <th>2013</th>\n",
       "      <th>2014</th>\n",
       "      <th>2015</th>\n",
       "      <th>Taux_remplissage</th>\n",
       "      <th>Long definition</th>\n",
       "    </tr>\n",
       "  </thead>\n",
       "  <tbody>\n",
       "    <tr>\n",
       "      <th>0</th>\n",
       "      <td>Arab World</td>\n",
       "      <td>ARB</td>\n",
       "      <td>GNI per capita, PPP (current international $)</td>\n",
       "      <td>NY.GNP.PCAP.PP.CD</td>\n",
       "      <td>11369.47658</td>\n",
       "      <td>12356.841903</td>\n",
       "      <td>13132.708815</td>\n",
       "      <td>13824.485684</td>\n",
       "      <td>13852.502783</td>\n",
       "      <td>14284.023177</td>\n",
       "      <td>14996.156034</td>\n",
       "      <td>15846.498202</td>\n",
       "      <td>16141.560252</td>\n",
       "      <td>16141.560252</td>\n",
       "      <td>16141.560252</td>\n",
       "      <td>87.0</td>\n",
       "      <td>gni per capita based on purchasing power parit...</td>\n",
       "    </tr>\n",
       "    <tr>\n",
       "      <th>1</th>\n",
       "      <td>East Asia &amp; Pacific</td>\n",
       "      <td>EAS</td>\n",
       "      <td>GNI per capita, PPP (current international $)</td>\n",
       "      <td>NY.GNP.PCAP.PP.CD</td>\n",
       "      <td>7979.803858</td>\n",
       "      <td>8800.95114</td>\n",
       "      <td>9767.941355</td>\n",
       "      <td>10405.054186</td>\n",
       "      <td>10758.261713</td>\n",
       "      <td>11738.672488</td>\n",
       "      <td>12601.058098</td>\n",
       "      <td>13499.991278</td>\n",
       "      <td>14389.108336</td>\n",
       "      <td>15330.472007</td>\n",
       "      <td>16149.931154</td>\n",
       "      <td>87.0</td>\n",
       "      <td>gni per capita based on purchasing power parit...</td>\n",
       "    </tr>\n",
       "    <tr>\n",
       "      <th>2</th>\n",
       "      <td>East Asia &amp; Pacific (excluding high income)</td>\n",
       "      <td>EAP</td>\n",
       "      <td>GNI per capita, PPP (current international $)</td>\n",
       "      <td>NY.GNP.PCAP.PP.CD</td>\n",
       "      <td>5148.206568</td>\n",
       "      <td>5846.666888</td>\n",
       "      <td>6693.465068</td>\n",
       "      <td>7354.394893</td>\n",
       "      <td>7865.504692</td>\n",
       "      <td>8709.694279</td>\n",
       "      <td>9525.4158</td>\n",
       "      <td>10384.409752</td>\n",
       "      <td>11165.939759</td>\n",
       "      <td>12118.246706</td>\n",
       "      <td>12921.630707</td>\n",
       "      <td>87.0</td>\n",
       "      <td>gni per capita based on purchasing power parit...</td>\n",
       "    </tr>\n",
       "    <tr>\n",
       "      <th>3</th>\n",
       "      <td>Euro area</td>\n",
       "      <td>EMU</td>\n",
       "      <td>GNI per capita, PPP (current international $)</td>\n",
       "      <td>NY.GNP.PCAP.PP.CD</td>\n",
       "      <td>30153.765259</td>\n",
       "      <td>32673.170524</td>\n",
       "      <td>34437.870873</td>\n",
       "      <td>35617.680976</td>\n",
       "      <td>34957.646314</td>\n",
       "      <td>36017.493732</td>\n",
       "      <td>37606.582828</td>\n",
       "      <td>38000.713691</td>\n",
       "      <td>39183.09099</td>\n",
       "      <td>40161.569361</td>\n",
       "      <td>41230.027134</td>\n",
       "      <td>87.0</td>\n",
       "      <td>gni per capita based on purchasing power parit...</td>\n",
       "    </tr>\n",
       "    <tr>\n",
       "      <th>4</th>\n",
       "      <td>Europe &amp; Central Asia</td>\n",
       "      <td>ECS</td>\n",
       "      <td>GNI per capita, PPP (current international $)</td>\n",
       "      <td>NY.GNP.PCAP.PP.CD</td>\n",
       "      <td>20223.547172</td>\n",
       "      <td>22345.170045</td>\n",
       "      <td>23839.674401</td>\n",
       "      <td>25347.50264</td>\n",
       "      <td>24756.355149</td>\n",
       "      <td>25894.746869</td>\n",
       "      <td>27580.72937</td>\n",
       "      <td>28280.604601</td>\n",
       "      <td>29258.848142</td>\n",
       "      <td>29915.207287</td>\n",
       "      <td>30338.930111</td>\n",
       "      <td>87.0</td>\n",
       "      <td>gni per capita based on purchasing power parit...</td>\n",
       "    </tr>\n",
       "  </tbody>\n",
       "</table>\n",
       "</div>"
      ],
      "text/plain": [
       "                                  Country Name Country Code  \\\n",
       "0                                   Arab World          ARB   \n",
       "1                          East Asia & Pacific          EAS   \n",
       "2  East Asia & Pacific (excluding high income)          EAP   \n",
       "3                                    Euro area          EMU   \n",
       "4                        Europe & Central Asia          ECS   \n",
       "\n",
       "                                  Indicator Name     Indicator Code  \\\n",
       "0  GNI per capita, PPP (current international $)  NY.GNP.PCAP.PP.CD   \n",
       "1  GNI per capita, PPP (current international $)  NY.GNP.PCAP.PP.CD   \n",
       "2  GNI per capita, PPP (current international $)  NY.GNP.PCAP.PP.CD   \n",
       "3  GNI per capita, PPP (current international $)  NY.GNP.PCAP.PP.CD   \n",
       "4  GNI per capita, PPP (current international $)  NY.GNP.PCAP.PP.CD   \n",
       "\n",
       "           2005          2006          2007          2008          2009  \\\n",
       "0   11369.47658  12356.841903  13132.708815  13824.485684  13852.502783   \n",
       "1   7979.803858    8800.95114   9767.941355  10405.054186  10758.261713   \n",
       "2   5148.206568   5846.666888   6693.465068   7354.394893   7865.504692   \n",
       "3  30153.765259  32673.170524  34437.870873  35617.680976  34957.646314   \n",
       "4  20223.547172  22345.170045  23839.674401   25347.50264  24756.355149   \n",
       "\n",
       "           2010          2011          2012          2013          2014  \\\n",
       "0  14284.023177  14996.156034  15846.498202  16141.560252  16141.560252   \n",
       "1  11738.672488  12601.058098  13499.991278  14389.108336  15330.472007   \n",
       "2   8709.694279     9525.4158  10384.409752  11165.939759  12118.246706   \n",
       "3  36017.493732  37606.582828  38000.713691   39183.09099  40161.569361   \n",
       "4  25894.746869   27580.72937  28280.604601  29258.848142  29915.207287   \n",
       "\n",
       "           2015 Taux_remplissage  \\\n",
       "0  16141.560252             87.0   \n",
       "1  16149.931154             87.0   \n",
       "2  12921.630707             87.0   \n",
       "3  41230.027134             87.0   \n",
       "4  30338.930111             87.0   \n",
       "\n",
       "                                     Long definition  \n",
       "0  gni per capita based on purchasing power parit...  \n",
       "1  gni per capita based on purchasing power parit...  \n",
       "2  gni per capita based on purchasing power parit...  \n",
       "3  gni per capita based on purchasing power parit...  \n",
       "4  gni per capita based on purchasing power parit...  "
      ]
     },
     "execution_count": 25,
     "metadata": {},
     "output_type": "execute_result"
    }
   ],
   "source": [
    "df_data.head()"
   ]
  },
  {
   "cell_type": "markdown",
   "metadata": {
    "_cell_guid": "8cdb2d0f-0330-4ee7-88fd-7bdc3f1ce219",
    "_uuid": "8eb3c706-e012-4601-98cb-e31640f3d42d"
   },
   "source": [
    "Travailler avec les dernières valeurs de l'année 2015 pour avoir des informations récentes le plus possible.\n",
    "\n",
    "Le trvail avec la moyenne, max, somme, .. n'as pas de sens pour notre type de données"
   ]
  },
  {
   "cell_type": "code",
   "execution_count": 26,
   "metadata": {
    "_cell_guid": "00a29037-1de4-4321-82f9-0c2f9c9b7be9",
    "_uuid": "112dd21e-1909-4dfc-a30a-4ddaec74b5c8",
    "execution": {
     "iopub.execute_input": "2022-10-11T11:16:32.374275Z",
     "iopub.status.busy": "2022-10-11T11:16:32.373797Z",
     "iopub.status.idle": "2022-10-11T11:16:32.409629Z",
     "shell.execute_reply": "2022-10-11T11:16:32.408059Z",
     "shell.execute_reply.started": "2022-10-11T11:16:32.374232Z"
    },
    "jupyter": {
     "outputs_hidden": false
    }
   },
   "outputs": [
    {
     "data": {
      "text/html": [
       "<div>\n",
       "<style scoped>\n",
       "    .dataframe tbody tr th:only-of-type {\n",
       "        vertical-align: middle;\n",
       "    }\n",
       "\n",
       "    .dataframe tbody tr th {\n",
       "        vertical-align: top;\n",
       "    }\n",
       "\n",
       "    .dataframe thead th {\n",
       "        text-align: right;\n",
       "    }\n",
       "</style>\n",
       "<table border=\"1\" class=\"dataframe\">\n",
       "  <thead>\n",
       "    <tr style=\"text-align: right;\">\n",
       "      <th>Indicator Code</th>\n",
       "      <th>IT.NET.USER.P2</th>\n",
       "      <th>NY.GNP.PCAP.PP.CD</th>\n",
       "      <th>SE.SEC.ENRR</th>\n",
       "      <th>SE.TER.ENRR</th>\n",
       "      <th>SP.POP.1524.TO.UN</th>\n",
       "    </tr>\n",
       "    <tr>\n",
       "      <th>Country Name</th>\n",
       "      <th></th>\n",
       "      <th></th>\n",
       "      <th></th>\n",
       "      <th></th>\n",
       "      <th></th>\n",
       "    </tr>\n",
       "  </thead>\n",
       "  <tbody>\n",
       "    <tr>\n",
       "      <th>Algeria</th>\n",
       "      <td>38.2</td>\n",
       "      <td>14170.0</td>\n",
       "      <td>99.860191</td>\n",
       "      <td>36.922279</td>\n",
       "      <td>6467818.0</td>\n",
       "    </tr>\n",
       "    <tr>\n",
       "      <th>Rwanda</th>\n",
       "      <td>18.0</td>\n",
       "      <td>1790.0</td>\n",
       "      <td>36.68697</td>\n",
       "      <td>7.89708</td>\n",
       "      <td>2327612.0</td>\n",
       "    </tr>\n",
       "    <tr>\n",
       "      <th>Gambia, The</th>\n",
       "      <td>16.5</td>\n",
       "      <td>1620.0</td>\n",
       "      <td>57.451832</td>\n",
       "      <td>3.10428</td>\n",
       "      <td>406035.0</td>\n",
       "    </tr>\n",
       "    <tr>\n",
       "      <th>Burundi</th>\n",
       "      <td>4.866224</td>\n",
       "      <td>800.0</td>\n",
       "      <td>42.480068</td>\n",
       "      <td>4.96606</td>\n",
       "      <td>2087945.0</td>\n",
       "    </tr>\n",
       "    <tr>\n",
       "      <th>Spain</th>\n",
       "      <td>78.6896</td>\n",
       "      <td>34760.0</td>\n",
       "      <td>129.810486</td>\n",
       "      <td>89.670143</td>\n",
       "      <td>4285743.0</td>\n",
       "    </tr>\n",
       "    <tr>\n",
       "      <th>Germany</th>\n",
       "      <td>87.5898</td>\n",
       "      <td>49060.0</td>\n",
       "      <td>102.665398</td>\n",
       "      <td>68.265587</td>\n",
       "      <td>8682394.0</td>\n",
       "    </tr>\n",
       "    <tr>\n",
       "      <th>Cabo Verde</th>\n",
       "      <td>47.961624</td>\n",
       "      <td>6080.0</td>\n",
       "      <td>92.89843</td>\n",
       "      <td>21.707821</td>\n",
       "      <td>124102.0</td>\n",
       "    </tr>\n",
       "    <tr>\n",
       "      <th>Mauritania</th>\n",
       "      <td>15.199127</td>\n",
       "      <td>3700.0</td>\n",
       "      <td>30.59811</td>\n",
       "      <td>5.62173</td>\n",
       "      <td>737608.0</td>\n",
       "    </tr>\n",
       "    <tr>\n",
       "      <th>Uzbekistan</th>\n",
       "      <td>42.8</td>\n",
       "      <td>6210.0</td>\n",
       "      <td>95.640182</td>\n",
       "      <td>8.78775</td>\n",
       "      <td>5897703.0</td>\n",
       "    </tr>\n",
       "    <tr>\n",
       "      <th>Ukraine</th>\n",
       "      <td>48.884644</td>\n",
       "      <td>7850.0</td>\n",
       "      <td>99.236938</td>\n",
       "      <td>82.305031</td>\n",
       "      <td>4842803.0</td>\n",
       "    </tr>\n",
       "  </tbody>\n",
       "</table>\n",
       "</div>"
      ],
      "text/plain": [
       "Indicator Code IT.NET.USER.P2 NY.GNP.PCAP.PP.CD SE.SEC.ENRR SE.TER.ENRR  \\\n",
       "Country Name                                                              \n",
       "Algeria                  38.2           14170.0   99.860191   36.922279   \n",
       "Rwanda                   18.0            1790.0    36.68697     7.89708   \n",
       "Gambia, The              16.5            1620.0   57.451832     3.10428   \n",
       "Burundi              4.866224             800.0   42.480068     4.96606   \n",
       "Spain                 78.6896           34760.0  129.810486   89.670143   \n",
       "Germany               87.5898           49060.0  102.665398   68.265587   \n",
       "Cabo Verde          47.961624            6080.0    92.89843   21.707821   \n",
       "Mauritania          15.199127            3700.0    30.59811     5.62173   \n",
       "Uzbekistan               42.8            6210.0   95.640182     8.78775   \n",
       "Ukraine             48.884644            7850.0   99.236938   82.305031   \n",
       "\n",
       "Indicator Code SP.POP.1524.TO.UN  \n",
       "Country Name                      \n",
       "Algeria                6467818.0  \n",
       "Rwanda                 2327612.0  \n",
       "Gambia, The             406035.0  \n",
       "Burundi                2087945.0  \n",
       "Spain                  4285743.0  \n",
       "Germany                8682394.0  \n",
       "Cabo Verde              124102.0  \n",
       "Mauritania              737608.0  \n",
       "Uzbekistan             5897703.0  \n",
       "Ukraine                4842803.0  "
      ]
     },
     "metadata": {},
     "output_type": "display_data"
    }
   ],
   "source": [
    "# Travailler avec un dataframe réduit qui ne contient  que les colonnes utiles\n",
    "df_data = df_data.pivot(index='Country Name',columns='Indicator Code',values='2015')\n",
    "# supprimer les pays dont au moins un indicateur est manquants, ces pays ne seront pas utiles pour faire des comparaisons\n",
    "df_data = df_data.dropna()\n",
    "display(df_data.sample(10))"
   ]
  },
  {
   "cell_type": "code",
   "execution_count": 27,
   "metadata": {
    "_cell_guid": "5cb16700-9fe2-428e-97d0-4ff2f1c181b9",
    "_uuid": "84cc1368-42e2-4a91-aa02-9242a9fd3021",
    "execution": {
     "iopub.execute_input": "2022-10-11T11:16:32.415495Z",
     "iopub.status.busy": "2022-10-11T11:16:32.414691Z",
     "iopub.status.idle": "2022-10-11T11:16:33.380197Z",
     "shell.execute_reply": "2022-10-11T11:16:33.378822Z",
     "shell.execute_reply.started": "2022-10-11T11:16:32.415415Z"
    },
    "jupyter": {
     "outputs_hidden": false
    }
   },
   "outputs": [
    {
     "data": {
      "image/png": "[encoded data removed]",
      "text/plain": [
       "<Figure size 1080x1080 with 5 Axes>"
      ]
     },
     "metadata": {
      "needs_background": "light"
     },
     "output_type": "display_data"
    }
   ],
   "source": [
    "# Les 20 meilleurs pays selon chaque indicateur \n",
    "\n",
    "plt.figure(figsize=(15, 15))\n",
    "i=1\n",
    "for k in liste_code_indicateurs_finale:\n",
    "    \n",
    "\n",
    "    plt.subplot(5, 2,i )\n",
    "    df_data[k].sort_values(ascending=False)[:10].plot.bar()\n",
    "\n",
    "    plt.title(liste_nom_indicateurs_finale[liste_code_indicateurs_finale.index(k)],fontsize=15)\n",
    "    \n",
    "    i+=1\n",
    "    \n",
    "    \n",
    "\n",
    "plt.tight_layout()"
   ]
  },
  {
   "cell_type": "code",
   "execution_count": 28,
   "metadata": {
    "_cell_guid": "f73af5b0-3011-4478-acf4-f68ba06ca7d4",
    "_uuid": "297feb82-a028-4b49-99c0-b8a70d76aafb",
    "execution": {
     "iopub.execute_input": "2022-10-11T11:16:33.382194Z",
     "iopub.status.busy": "2022-10-11T11:16:33.381846Z",
     "iopub.status.idle": "2022-10-11T11:16:35.193791Z",
     "shell.execute_reply": "2022-10-11T11:16:35.192217Z",
     "shell.execute_reply.started": "2022-10-11T11:16:33.382164Z"
    },
    "jupyter": {
     "outputs_hidden": false
    }
   },
   "outputs": [
    {
     "data": {
      "image/png": "[encoded data removed]",
      "text/plain": [
       "<Figure size 1080x1080 with 10 Axes>"
      ]
     },
     "metadata": {
      "needs_background": "light"
     },
     "output_type": "display_data"
    }
   ],
   "source": [
    "#histogramme et boîte à moustache de chaque indicateur\n",
    "plt.figure(figsize=(15, 15))\n",
    "i=1\n",
    "for k in liste_code_indicateurs_finale:\n",
    "\n",
    "    plt.subplot(5, 2,i )\n",
    "    sns.boxplot(df_data[k], width=0.5, color='red')\n",
    "    plt.title(liste_nom_indicateurs_finale[liste_code_indicateurs_finale.index(k)],fontsize=15)\n",
    "    i+=1\n",
    "    plt.subplot(5,2, i )\n",
    "    sns.histplot(df_data[k], kde=True, color='blue')\n",
    "    plt.title(liste_nom_indicateurs_finale[liste_code_indicateurs_finale.index(k)],fontsize=15)\n",
    "    i+=1\n",
    "\n",
    "plt.tight_layout()"
   ]
  },
  {
   "cell_type": "markdown",
   "metadata": {
    "_cell_guid": "60c3f10c-38ed-48df-adb5-c0b33a332a78",
    "_uuid": "30351836-e869-4381-8d88-dd08c7e6e467"
   },
   "source": [
    "- Distribution étalée à droite pour les deux indicateurs 'Richesse' et 'Population_15_24'.\n",
    "\n",
    "- Forme bimodale pour les indicateurs 'Internet' et 'Lycéensé. On trouve 2 pics dans chaque distribution.\n",
    "\n",
    "- Présence de plusieyrs valeurs aberrantes pour les indicateurs 'Population_15_24' et 'Richesse'."
   ]
  },
  {
   "cell_type": "code",
   "execution_count": 29,
   "metadata": {
    "_cell_guid": "146516c3-d348-4444-b558-dddfa7edf12b",
    "_uuid": "d863a8e4-fbec-46a1-8511-d7258ee35a34",
    "execution": {
     "iopub.execute_input": "2022-10-11T11:16:35.195847Z",
     "iopub.status.busy": "2022-10-11T11:16:35.195309Z",
     "iopub.status.idle": "2022-10-11T11:16:35.241641Z",
     "shell.execute_reply": "2022-10-11T11:16:35.239007Z",
     "shell.execute_reply.started": "2022-10-11T11:16:35.195809Z"
    },
    "jupyter": {
     "outputs_hidden": false
    }
   },
   "outputs": [
    {
     "data": {
      "text/html": [
       "<div>\n",
       "<style scoped>\n",
       "    .dataframe tbody tr th:only-of-type {\n",
       "        vertical-align: middle;\n",
       "    }\n",
       "\n",
       "    .dataframe tbody tr th {\n",
       "        vertical-align: top;\n",
       "    }\n",
       "\n",
       "    .dataframe thead th {\n",
       "        text-align: right;\n",
       "    }\n",
       "</style>\n",
       "<table border=\"1\" class=\"dataframe\">\n",
       "  <thead>\n",
       "    <tr style=\"text-align: right;\">\n",
       "      <th></th>\n",
       "      <th>Mesure</th>\n",
       "      <th>Internet</th>\n",
       "      <th>Richesse</th>\n",
       "      <th>Lycéens</th>\n",
       "      <th>Etudiants</th>\n",
       "      <th>Population_15_24</th>\n",
       "    </tr>\n",
       "  </thead>\n",
       "  <tbody>\n",
       "    <tr>\n",
       "      <th>0</th>\n",
       "      <td>moyenne</td>\n",
       "      <td>47.60</td>\n",
       "      <td>1.953142e+04</td>\n",
       "      <td>82.75</td>\n",
       "      <td>38.85</td>\n",
       "      <td>7.449137e+06</td>\n",
       "    </tr>\n",
       "    <tr>\n",
       "      <th>1</th>\n",
       "      <td>médiane</td>\n",
       "      <td>48.88</td>\n",
       "      <td>1.190000e+04</td>\n",
       "      <td>88.67</td>\n",
       "      <td>35.08</td>\n",
       "      <td>1.493722e+06</td>\n",
       "    </tr>\n",
       "    <tr>\n",
       "      <th>2</th>\n",
       "      <td>variance</td>\n",
       "      <td>816.00</td>\n",
       "      <td>4.490851e+08</td>\n",
       "      <td>863.05</td>\n",
       "      <td>825.70</td>\n",
       "      <td>6.692897e+14</td>\n",
       "    </tr>\n",
       "    <tr>\n",
       "      <th>3</th>\n",
       "      <td>écart type</td>\n",
       "      <td>28.57</td>\n",
       "      <td>2.119163e+04</td>\n",
       "      <td>29.38</td>\n",
       "      <td>28.74</td>\n",
       "      <td>2.587063e+07</td>\n",
       "    </tr>\n",
       "    <tr>\n",
       "      <th>4</th>\n",
       "      <td>skewness</td>\n",
       "      <td>0.05</td>\n",
       "      <td>1.920000e+00</td>\n",
       "      <td>-0.19</td>\n",
       "      <td>0.44</td>\n",
       "      <td>7.690000e+00</td>\n",
       "    </tr>\n",
       "    <tr>\n",
       "      <th>5</th>\n",
       "      <td>kurtosis</td>\n",
       "      <td>-1.29</td>\n",
       "      <td>4.730000e+00</td>\n",
       "      <td>-0.33</td>\n",
       "      <td>-1.06</td>\n",
       "      <td>6.379000e+01</td>\n",
       "    </tr>\n",
       "  </tbody>\n",
       "</table>\n",
       "</div>"
      ],
      "text/plain": [
       "       Mesure  Internet      Richesse  Lycéens  Etudiants  Population_15_24\n",
       "0     moyenne     47.60  1.953142e+04    82.75      38.85      7.449137e+06\n",
       "1     médiane     48.88  1.190000e+04    88.67      35.08      1.493722e+06\n",
       "2    variance    816.00  4.490851e+08   863.05     825.70      6.692897e+14\n",
       "3  écart type     28.57  2.119163e+04    29.38      28.74      2.587063e+07\n",
       "4    skewness      0.05  1.920000e+00    -0.19       0.44      7.690000e+00\n",
       "5    kurtosis     -1.29  4.730000e+00    -0.33      -1.06      6.379000e+01"
      ]
     },
     "execution_count": 29,
     "metadata": {},
     "output_type": "execute_result"
    }
   ],
   "source": [
    "#Calcul des ordres de grandeur de chaque indicateur \n",
    "stat_mean=['moyenne']\n",
    "stat_median=['médiane']\n",
    "stat_var=['variance']\n",
    "stat_std=['écart type']\n",
    "stat_skew=['skewness']\n",
    "stat_kurtosis=['kurtosis']\n",
    "\n",
    "for i in df_data.columns.tolist():\n",
    "    mean=round(df_data[str(i)].mean(),2)\n",
    "    median=round(df_data[str(i)].median(),2)\n",
    "    var=round(df_data[str(i)].var(),2)\n",
    "    std=round(df_data[str(i)].std(),2)\n",
    "    skew=round(df_data[str(i)].skew(),2)\n",
    "    kurtosis=round(df_data[str(i)].kurtosis(),2)\n",
    "    stat_mean.append(mean)\n",
    "    stat_median.append(median)\n",
    "    stat_var.append(var)\n",
    "    stat_std.append(std)\n",
    "    stat_skew.append(skew)\n",
    "    stat_kurtosis.append(kurtosis)\n",
    "    \n",
    "stat_descriptives=[stat_mean,stat_median,stat_var,stat_std,stat_skew,stat_kurtosis]\n",
    "df_stat_descriptives = pd.DataFrame(stat_descriptives,columns=['Mesure','Internet', 'Richesse'  ,'Lycéens' , 'Etudiants','Population_15_24'])\n",
    "df_stat_descriptives"
   ]
  },
  {
   "cell_type": "markdown",
   "metadata": {
    "_cell_guid": "ea0d6a56-1f49-4be0-bb8c-8c89b9f0b33b",
    "_uuid": "79052278-3911-4c2e-bb72-f47f05404d73"
   },
   "source": [
    "**- La moyenne** est la valeur correspondant au centre de gravité de l'ensemble des valeurs d'une variable.\n",
    "\n",
    "**- La médiane** est la valeur centrale qui partage l’échantillon en 2 groupes de même effectif: 50 % au-dessus et 50 % en dessous.\n",
    "\n",
    "**- La variance**  est la mesure de la dispersion des échantillons autour de la moyenne. \n",
    "\n",
    "**- L'écart-type** sert à mesurer la dispersion, ou l'étalement, d'un ensemble de valeurs autour de leur moyenne. Plus l'écart-type est faible, plus la population est homogène.\n",
    "\n",
    "**- Le skewness** est une mesure d'asymétrie. L’asymétrie d’une distribution traduit la régularité (ou non) avec laquelle les observations se répartissent autour de la valeur centrale. On interprète cette mesure de cette manière :\n",
    "\n",
    "    Si γ1=0, alors la distribution est symétrique.\n",
    "\n",
    "    Si γ1>0 , alors la distribution est étalée à droite.\n",
    "\n",
    "    Si γ1<0,  alors la distribution est étalée à gauche.\n",
    "    \n",
    "**- Le kurtosis** est une mesure d'aplatissement. On compare l'aplatissement par rapport à la distribution normale\n",
    "\n",
    "    Si γ2=0, alors la distribution a le même aplatissement que la distribution normale.\n",
    "\n",
    "    Si γ2>0, alors elle est moins aplatie que la distribution normale : les observations sont plus concentrées.\n",
    "\n",
    "    Si γ2<0, alors les observations sont moins concentrées : la distribution est plus aplatie."
   ]
  },
  {
   "cell_type": "code",
   "execution_count": 30,
   "metadata": {
    "_cell_guid": "0328ca4a-50e9-4565-a93b-3c5bf4138240",
    "_uuid": "fad7a9ec-5a88-4963-aaa0-b82baa659919",
    "execution": {
     "iopub.execute_input": "2022-10-11T11:16:35.246012Z",
     "iopub.status.busy": "2022-10-11T11:16:35.245241Z",
     "iopub.status.idle": "2022-10-11T11:16:35.260816Z",
     "shell.execute_reply": "2022-10-11T11:16:35.257231Z",
     "shell.execute_reply.started": "2022-10-11T11:16:35.245963Z"
    },
    "jupyter": {
     "outputs_hidden": false
    }
   },
   "outputs": [],
   "source": [
    "# Ne garder que les pays dont la population est supérieure à la moyenne\n",
    "\n",
    "df_data=df_data[df_data['SP.POP.1524.TO.UN']>df_stat_descriptives.iloc[0,5]]"
   ]
  },
  {
   "cell_type": "markdown",
   "metadata": {
    "_cell_guid": "c66d6b15-c77d-40da-a63c-fcf1d71e2b4e",
    "_uuid": "2cf325e7-e179-4c63-a05c-3a5f25471ad5"
   },
   "source": [
    "**** Normalisation****\n",
    "\n",
    " On peut faire une comparaison entre les techniques de normalisation et choisir la meilleure sur notre jeu de données \n",
    " mais l normalisation ne fait pas partir de ce projet donc je vais choisir la normalisation Min-Max qui est la plus classique."
   ]
  },
  {
   "cell_type": "code",
   "execution_count": 31,
   "metadata": {
    "_cell_guid": "6523a78c-0c67-4c49-9857-2448cd8ded36",
    "_uuid": "c26b0711-d5b9-472e-9400-a08dd45b06e7",
    "execution": {
     "iopub.execute_input": "2022-10-11T11:16:35.264961Z",
     "iopub.status.busy": "2022-10-11T11:16:35.264470Z",
     "iopub.status.idle": "2022-10-11T11:16:35.731365Z",
     "shell.execute_reply": "2022-10-11T11:16:35.730061Z",
     "shell.execute_reply.started": "2022-10-11T11:16:35.264909Z"
    },
    "jupyter": {
     "outputs_hidden": false
    }
   },
   "outputs": [
    {
     "data": {
      "image/png": "[encoded data removed]",
      "text/plain": [
       "<Figure size 1368x360 with 2 Axes>"
      ]
     },
     "metadata": {
      "needs_background": "light"
     },
     "output_type": "display_data"
    }
   ],
   "source": [
    "### Normalisation des données \n",
    "from sklearn import preprocessing\n",
    "\n",
    "from sklearn.preprocessing import MinMaxScaler\n",
    "\n",
    "\n",
    "scaler1 = preprocessing.MinMaxScaler()\n",
    "minmax_scaled_df = scaler1.fit_transform(df_data)\n",
    "\n",
    "minmax_scaled_df = pd.DataFrame(minmax_scaled_df, \n",
    "                                columns=liste_code_indicateurs_finale,\n",
    "                                index =df_data.index.to_list())\n",
    "\n",
    "fig, (ax1, ax2) = plt.subplots(ncols=2, figsize=(19, 5))\n",
    "ax1.set_title('Avant Normalisation')\n",
    "sns.kdeplot(df_data['IT.NET.USER.P2'], ax=ax1)\n",
    "sns.kdeplot(df_data['NY.GNP.PCAP.PP.CD'], ax=ax1)\n",
    "sns.kdeplot(df_data['SE.SEC.ENRR'], ax=ax1)\n",
    "sns.kdeplot(df_data['SE.TER.ENRR'], ax=ax1)\n",
    "sns.kdeplot(df_data['SP.POP.1524.TO.UN'], ax=ax1)\n",
    "ax1.set_xlabel('Indicator Code')\n",
    "ax1.legend(loc='upper right', labels=liste_nom_indicateurs_finale)\n",
    "\n",
    "#\"\"\"\n",
    "ax2.set_title('Après Normalisation')\n",
    "sns.kdeplot(minmax_scaled_df['IT.NET.USER.P2'], ax=ax2)\n",
    "sns.kdeplot(minmax_scaled_df['NY.GNP.PCAP.PP.CD'], ax=ax2)\n",
    "sns.kdeplot(minmax_scaled_df['SE.SEC.ENRR'], ax=ax2)\n",
    "sns.kdeplot(minmax_scaled_df['SE.TER.ENRR'], ax=ax2)\n",
    "sns.kdeplot(minmax_scaled_df['SP.POP.1524.TO.UN'], ax=ax2)\n",
    "ax2.set_xlabel('Indicator Code')\n",
    "ax2.legend( loc='upper right', labels=liste_nom_indicateurs_finale)\n",
    "\n",
    "\n",
    "plt.show()"
   ]
  },
  {
   "cell_type": "code",
   "execution_count": 32,
   "metadata": {
    "_cell_guid": "0088b22e-8b75-46be-9eca-24cb2658a368",
    "_uuid": "c44affe0-df25-49b4-9a5e-10cf41718056",
    "execution": {
     "iopub.execute_input": "2022-10-11T11:16:35.733377Z",
     "iopub.status.busy": "2022-10-11T11:16:35.732996Z",
     "iopub.status.idle": "2022-10-11T11:16:35.755165Z",
     "shell.execute_reply": "2022-10-11T11:16:35.752941Z",
     "shell.execute_reply.started": "2022-10-11T11:16:35.733325Z"
    },
    "jupyter": {
     "outputs_hidden": false
    }
   },
   "outputs": [
    {
     "data": {
      "text/html": [
       "<div>\n",
       "<style scoped>\n",
       "    .dataframe tbody tr th:only-of-type {\n",
       "        vertical-align: middle;\n",
       "    }\n",
       "\n",
       "    .dataframe tbody tr th {\n",
       "        vertical-align: top;\n",
       "    }\n",
       "\n",
       "    .dataframe thead th {\n",
       "        text-align: right;\n",
       "    }\n",
       "</style>\n",
       "<table border=\"1\" class=\"dataframe\">\n",
       "  <thead>\n",
       "    <tr style=\"text-align: right;\">\n",
       "      <th></th>\n",
       "      <th>IT.NET.USER.P2</th>\n",
       "      <th>NY.GNP.PCAP.PP.CD</th>\n",
       "      <th>SE.SEC.ENRR</th>\n",
       "      <th>SE.TER.ENRR</th>\n",
       "      <th>SP.POP.1524.TO.UN</th>\n",
       "    </tr>\n",
       "  </thead>\n",
       "  <tbody>\n",
       "    <tr>\n",
       "      <th>Sudan</th>\n",
       "      <td>0.258672</td>\n",
       "      <td>0.059657</td>\n",
       "      <td>0.184011</td>\n",
       "      <td>0.139137</td>\n",
       "      <td>0.007667</td>\n",
       "    </tr>\n",
       "    <tr>\n",
       "      <th>Germany</th>\n",
       "      <td>0.949995</td>\n",
       "      <td>0.845346</td>\n",
       "      <td>0.750993</td>\n",
       "      <td>0.709428</td>\n",
       "      <td>0.004712</td>\n",
       "    </tr>\n",
       "    <tr>\n",
       "      <th>Kenya</th>\n",
       "      <td>0.195011</td>\n",
       "      <td>0.039363</td>\n",
       "      <td>0.351678</td>\n",
       "      <td>0.004386</td>\n",
       "      <td>0.005644</td>\n",
       "    </tr>\n",
       "    <tr>\n",
       "      <th>Colombia</th>\n",
       "      <td>0.590757</td>\n",
       "      <td>0.224808</td>\n",
       "      <td>0.707750</td>\n",
       "      <td>0.571005</td>\n",
       "      <td>0.006051</td>\n",
       "    </tr>\n",
       "    <tr>\n",
       "      <th>South Africa</th>\n",
       "      <td>0.545566</td>\n",
       "      <td>0.213261</td>\n",
       "      <td>0.714632</td>\n",
       "      <td>0.172671</td>\n",
       "      <td>0.010275</td>\n",
       "    </tr>\n",
       "    <tr>\n",
       "      <th>Egypt, Arab Rep.</th>\n",
       "      <td>0.385706</td>\n",
       "      <td>0.172323</td>\n",
       "      <td>0.594390</td>\n",
       "      <td>0.357701</td>\n",
       "      <td>0.033015</td>\n",
       "    </tr>\n",
       "    <tr>\n",
       "      <th>Mexico</th>\n",
       "      <td>0.608060</td>\n",
       "      <td>0.286914</td>\n",
       "      <td>0.636440</td>\n",
       "      <td>0.288671</td>\n",
       "      <td>0.053979</td>\n",
       "    </tr>\n",
       "    <tr>\n",
       "      <th>Bangladesh</th>\n",
       "      <td>0.120181</td>\n",
       "      <td>0.049335</td>\n",
       "      <td>0.380919</td>\n",
       "      <td>0.107520</td>\n",
       "      <td>0.113432</td>\n",
       "    </tr>\n",
       "    <tr>\n",
       "      <th>Philippines</th>\n",
       "      <td>0.565758</td>\n",
       "      <td>0.142232</td>\n",
       "      <td>0.616010</td>\n",
       "      <td>0.352484</td>\n",
       "      <td>0.049505</td>\n",
       "    </tr>\n",
       "    <tr>\n",
       "      <th>Brazil</th>\n",
       "      <td>0.618229</td>\n",
       "      <td>0.254899</td>\n",
       "      <td>0.722491</td>\n",
       "      <td>0.515536</td>\n",
       "      <td>0.110029</td>\n",
       "    </tr>\n",
       "    <tr>\n",
       "      <th>Pakistan</th>\n",
       "      <td>0.115646</td>\n",
       "      <td>0.080126</td>\n",
       "      <td>0.201289</td>\n",
       "      <td>0.068947</td>\n",
       "      <td>0.133218</td>\n",
       "    </tr>\n",
       "    <tr>\n",
       "      <th>Iran, Islamic Rep.</th>\n",
       "      <td>0.470916</td>\n",
       "      <td>0.295836</td>\n",
       "      <td>0.623369</td>\n",
       "      <td>0.749123</td>\n",
       "      <td>0.025317</td>\n",
       "    </tr>\n",
       "    <tr>\n",
       "      <th>China</th>\n",
       "      <td>0.527209</td>\n",
       "      <td>0.239328</td>\n",
       "      <td>0.671891</td>\n",
       "      <td>0.436345</td>\n",
       "      <td>0.800917</td>\n",
       "    </tr>\n",
       "    <tr>\n",
       "      <th>Indonesia</th>\n",
       "      <td>0.206077</td>\n",
       "      <td>0.174248</td>\n",
       "      <td>0.591930</td>\n",
       "      <td>0.226246</td>\n",
       "      <td>0.144794</td>\n",
       "    </tr>\n",
       "    <tr>\n",
       "      <th>Myanmar</th>\n",
       "      <td>0.203240</td>\n",
       "      <td>0.077502</td>\n",
       "      <td>0.265300</td>\n",
       "      <td>0.108479</td>\n",
       "      <td>0.005153</td>\n",
       "    </tr>\n",
       "  </tbody>\n",
       "</table>\n",
       "</div>"
      ],
      "text/plain": [
       "                    IT.NET.USER.P2  NY.GNP.PCAP.PP.CD  SE.SEC.ENRR  \\\n",
       "Sudan                     0.258672           0.059657     0.184011   \n",
       "Germany                   0.949995           0.845346     0.750993   \n",
       "Kenya                     0.195011           0.039363     0.351678   \n",
       "Colombia                  0.590757           0.224808     0.707750   \n",
       "South Africa              0.545566           0.213261     0.714632   \n",
       "Egypt, Arab Rep.          0.385706           0.172323     0.594390   \n",
       "Mexico                    0.608060           0.286914     0.636440   \n",
       "Bangladesh                0.120181           0.049335     0.380919   \n",
       "Philippines               0.565758           0.142232     0.616010   \n",
       "Brazil                    0.618229           0.254899     0.722491   \n",
       "Pakistan                  0.115646           0.080126     0.201289   \n",
       "Iran, Islamic Rep.        0.470916           0.295836     0.623369   \n",
       "China                     0.527209           0.239328     0.671891   \n",
       "Indonesia                 0.206077           0.174248     0.591930   \n",
       "Myanmar                   0.203240           0.077502     0.265300   \n",
       "\n",
       "                    SE.TER.ENRR  SP.POP.1524.TO.UN  \n",
       "Sudan                  0.139137           0.007667  \n",
       "Germany                0.709428           0.004712  \n",
       "Kenya                  0.004386           0.005644  \n",
       "Colombia               0.571005           0.006051  \n",
       "South Africa           0.172671           0.010275  \n",
       "Egypt, Arab Rep.       0.357701           0.033015  \n",
       "Mexico                 0.288671           0.053979  \n",
       "Bangladesh             0.107520           0.113432  \n",
       "Philippines            0.352484           0.049505  \n",
       "Brazil                 0.515536           0.110029  \n",
       "Pakistan               0.068947           0.133218  \n",
       "Iran, Islamic Rep.     0.749123           0.025317  \n",
       "China                  0.436345           0.800917  \n",
       "Indonesia              0.226246           0.144794  \n",
       "Myanmar                0.108479           0.005153  "
      ]
     },
     "execution_count": 32,
     "metadata": {},
     "output_type": "execute_result"
    }
   ],
   "source": [
    "df_data=minmax_scaled_df.copy()\n",
    "df_data.sample(15)"
   ]
  },
  {
   "cell_type": "markdown",
   "metadata": {
    "_cell_guid": "5e9281c2-3f3f-44ef-ba3b-f0a3270352c7",
    "_uuid": "825fd5d3-7688-482b-9477-eab78f0818a3"
   },
   "source": [
    "# 4.   **Définition d'un score et meilleurs pays**"
   ]
  },
  {
   "cell_type": "code",
   "execution_count": 33,
   "metadata": {
    "_cell_guid": "0289a441-432b-40ea-bbf4-60b368fc8682",
    "_uuid": "33c7fdb0-ab7d-43b0-aca2-7709af5dbc2a",
    "execution": {
     "iopub.execute_input": "2022-10-11T11:16:35.757753Z",
     "iopub.status.busy": "2022-10-11T11:16:35.757241Z",
     "iopub.status.idle": "2022-10-11T11:16:35.772253Z",
     "shell.execute_reply": "2022-10-11T11:16:35.769082Z",
     "shell.execute_reply.started": "2022-10-11T11:16:35.757709Z"
    },
    "jupyter": {
     "outputs_hidden": false
    }
   },
   "outputs": [],
   "source": [
    "# Somme des indicateurs avec pondération pour 'Richesse', 'Population_15_24' et 'Internet'\n",
    "df_data['Score']=(2*df_data.iloc[:,0]+2*df_data.iloc[:,1]+df_data.iloc[:,2]+df_data.iloc[:,3]+2*df_data.iloc[:,4])/8"
   ]
  },
  {
   "cell_type": "code",
   "execution_count": 34,
   "metadata": {
    "_cell_guid": "452d8b9e-14ac-4a35-bb71-0a2793c24b86",
    "_uuid": "2ee8e7e7-32c7-433d-81d8-9df46a6be5a4",
    "execution": {
     "iopub.execute_input": "2022-10-11T11:16:35.776597Z",
     "iopub.status.busy": "2022-10-11T11:16:35.775464Z",
     "iopub.status.idle": "2022-10-11T11:16:35.798914Z",
     "shell.execute_reply": "2022-10-11T11:16:35.794528Z",
     "shell.execute_reply.started": "2022-10-11T11:16:35.776534Z"
    },
    "jupyter": {
     "outputs_hidden": false
    }
   },
   "outputs": [
    {
     "data": {
      "text/plain": [
       "['United States',\n",
       " 'Germany',\n",
       " 'United Kingdom',\n",
       " 'Japan',\n",
       " 'France',\n",
       " 'China',\n",
       " 'Russian Federation',\n",
       " 'Turkey',\n",
       " 'India',\n",
       " 'Brazil']"
      ]
     },
     "execution_count": 34,
     "metadata": {},
     "output_type": "execute_result"
    }
   ],
   "source": [
    "# Les  i meilleurs pays avec un fort potentiel de clients pour nos services selon le score défini\n",
    "# saisir une valeur de i\n",
    "i=10 \n",
    "meilleurs_clients=df_data['Score'].sort_values(ascending=False)[:i].index.tolist()\n",
    "meilleurs_clients"
   ]
  },
  {
   "cell_type": "code",
   "execution_count": 35,
   "metadata": {
    "_cell_guid": "78e399af-83b1-41bd-998f-4bc87cc2c44f",
    "_uuid": "5829999c-8815-426a-b803-31a6a86d5cff",
    "execution": {
     "iopub.execute_input": "2022-10-11T11:16:35.805923Z",
     "iopub.status.busy": "2022-10-11T11:16:35.803530Z",
     "iopub.status.idle": "2022-10-11T11:16:36.092736Z",
     "shell.execute_reply": "2022-10-11T11:16:36.091604Z",
     "shell.execute_reply.started": "2022-10-11T11:16:35.805852Z"
    },
    "jupyter": {
     "outputs_hidden": false
    }
   },
   "outputs": [
    {
     "data": {
      "image/png": "[encoded data removed]",
      "text/plain": [
       "<Figure size 1080x360 with 1 Axes>"
      ]
     },
     "metadata": {
      "needs_background": "light"
     },
     "output_type": "display_data"
    }
   ],
   "source": [
    "# Graphe représentant les i meilleurs pays selon le score défini\n",
    "# saiasir une valeur de i\n",
    "i=10 \n",
    "plt.figure(figsize=(15, 5))\n",
    "df_data['Score'].sort_values(ascending=False)[:i].plot.bar()\n",
    "plt.title('Score',fontsize=15)\n",
    "plt.tight_layout()"
   ]
  },
  {
   "cell_type": "code",
   "execution_count": 36,
   "metadata": {
    "_cell_guid": "913d91a3-ffac-47be-ae25-5126d98d1a2b",
    "_uuid": "1c5af8fa-8421-424b-88c1-d3944b4538a1",
    "execution": {
     "iopub.execute_input": "2022-10-11T11:16:36.095873Z",
     "iopub.status.busy": "2022-10-11T11:16:36.094311Z",
     "iopub.status.idle": "2022-10-11T11:16:36.116740Z",
     "shell.execute_reply": "2022-10-11T11:16:36.114512Z",
     "shell.execute_reply.started": "2022-10-11T11:16:36.095788Z"
    },
    "jupyter": {
     "outputs_hidden": false
    }
   },
   "outputs": [
    {
     "data": {
      "text/html": [
       "<div>\n",
       "<style scoped>\n",
       "    .dataframe tbody tr th:only-of-type {\n",
       "        vertical-align: middle;\n",
       "    }\n",
       "\n",
       "    .dataframe tbody tr th {\n",
       "        vertical-align: top;\n",
       "    }\n",
       "\n",
       "    .dataframe thead th {\n",
       "        text-align: right;\n",
       "    }\n",
       "</style>\n",
       "<table border=\"1\" class=\"dataframe\">\n",
       "  <thead>\n",
       "    <tr style=\"text-align: right;\">\n",
       "      <th></th>\n",
       "      <th>Country Name</th>\n",
       "      <th>IT.NET.USER.P2</th>\n",
       "      <th>NY.GNP.PCAP.PP.CD</th>\n",
       "      <th>SE.SEC.ENRR</th>\n",
       "      <th>SE.TER.ENRR</th>\n",
       "      <th>SP.POP.1524.TO.UN</th>\n",
       "      <th>Score</th>\n",
       "    </tr>\n",
       "  </thead>\n",
       "  <tbody>\n",
       "    <tr>\n",
       "      <th>0</th>\n",
       "      <td>Bangladesh</td>\n",
       "      <td>0.120181</td>\n",
       "      <td>0.049335</td>\n",
       "      <td>0.380919</td>\n",
       "      <td>0.107520</td>\n",
       "      <td>0.113432</td>\n",
       "      <td>0.131792</td>\n",
       "    </tr>\n",
       "    <tr>\n",
       "      <th>1</th>\n",
       "      <td>Brazil</td>\n",
       "      <td>0.618229</td>\n",
       "      <td>0.254899</td>\n",
       "      <td>0.722491</td>\n",
       "      <td>0.515536</td>\n",
       "      <td>0.110029</td>\n",
       "      <td>0.400543</td>\n",
       "    </tr>\n",
       "    <tr>\n",
       "      <th>2</th>\n",
       "      <td>China</td>\n",
       "      <td>0.527209</td>\n",
       "      <td>0.239328</td>\n",
       "      <td>0.671891</td>\n",
       "      <td>0.436345</td>\n",
       "      <td>0.800917</td>\n",
       "      <td>0.530393</td>\n",
       "    </tr>\n",
       "  </tbody>\n",
       "</table>\n",
       "</div>"
      ],
      "text/plain": [
       "  Country Name  IT.NET.USER.P2  NY.GNP.PCAP.PP.CD  SE.SEC.ENRR  SE.TER.ENRR  \\\n",
       "0   Bangladesh        0.120181           0.049335     0.380919     0.107520   \n",
       "1       Brazil        0.618229           0.254899     0.722491     0.515536   \n",
       "2        China        0.527209           0.239328     0.671891     0.436345   \n",
       "\n",
       "   SP.POP.1524.TO.UN     Score  \n",
       "0           0.113432  0.131792  \n",
       "1           0.110029  0.400543  \n",
       "2           0.800917  0.530393  "
      ]
     },
     "execution_count": 36,
     "metadata": {},
     "output_type": "execute_result"
    }
   ],
   "source": [
    "# reset index\n",
    "df_data.reset_index(level=0, inplace=True)\n",
    "df_data.rename(columns = {'index':'Country Name'}, inplace = True)\n",
    "df_data.head(3)"
   ]
  },
  {
   "cell_type": "code",
   "execution_count": 37,
   "metadata": {
    "_cell_guid": "15bf1773-e42d-4c19-a289-0271d993645d",
    "_uuid": "ca43741f-c195-47b7-91b7-1d9f878339f5",
    "execution": {
     "iopub.execute_input": "2022-10-11T11:16:36.120391Z",
     "iopub.status.busy": "2022-10-11T11:16:36.119410Z",
     "iopub.status.idle": "2022-10-11T11:16:36.313154Z",
     "shell.execute_reply": "2022-10-11T11:16:36.311096Z",
     "shell.execute_reply.started": "2022-10-11T11:16:36.120310Z"
    },
    "jupyter": {
     "outputs_hidden": false
    }
   },
   "outputs": [
    {
     "data": {
      "text/html": [
       "<div>\n",
       "<style scoped>\n",
       "    .dataframe tbody tr th:only-of-type {\n",
       "        vertical-align: middle;\n",
       "    }\n",
       "\n",
       "    .dataframe tbody tr th {\n",
       "        vertical-align: top;\n",
       "    }\n",
       "\n",
       "    .dataframe thead th {\n",
       "        text-align: right;\n",
       "    }\n",
       "</style>\n",
       "<table border=\"1\" class=\"dataframe\">\n",
       "  <thead>\n",
       "    <tr style=\"text-align: right;\">\n",
       "      <th></th>\n",
       "      <th>Country Name</th>\n",
       "      <th>IT.NET.USER.P2</th>\n",
       "      <th>NY.GNP.PCAP.PP.CD</th>\n",
       "      <th>SE.SEC.ENRR</th>\n",
       "      <th>SE.TER.ENRR</th>\n",
       "      <th>SP.POP.1524.TO.UN</th>\n",
       "      <th>Score</th>\n",
       "      <th>Country Code</th>\n",
       "      <th>Region</th>\n",
       "    </tr>\n",
       "  </thead>\n",
       "  <tbody>\n",
       "    <tr>\n",
       "      <th>16</th>\n",
       "      <td>Nigeria</td>\n",
       "      <td>0.234693</td>\n",
       "      <td>0.090098</td>\n",
       "      <td>0.306979</td>\n",
       "      <td>0.070523</td>\n",
       "      <td>0.122980</td>\n",
       "      <td>0.159131</td>\n",
       "      <td>NGA</td>\n",
       "      <td>Sub-Saharan Africa</td>\n",
       "    </tr>\n",
       "    <tr>\n",
       "      <th>0</th>\n",
       "      <td>Bangladesh</td>\n",
       "      <td>0.120181</td>\n",
       "      <td>0.049335</td>\n",
       "      <td>0.380919</td>\n",
       "      <td>0.107520</td>\n",
       "      <td>0.113432</td>\n",
       "      <td>0.131792</td>\n",
       "      <td>BGD</td>\n",
       "      <td>South Asia</td>\n",
       "    </tr>\n",
       "    <tr>\n",
       "      <th>19</th>\n",
       "      <td>Russian Federation</td>\n",
       "      <td>0.789226</td>\n",
       "      <td>0.390483</td>\n",
       "      <td>0.768179</td>\n",
       "      <td>0.842584</td>\n",
       "      <td>0.029990</td>\n",
       "      <td>0.503770</td>\n",
       "      <td>RUS</td>\n",
       "      <td>Europe &amp; Central Asia</td>\n",
       "    </tr>\n",
       "    <tr>\n",
       "      <th>22</th>\n",
       "      <td>Tanzania</td>\n",
       "      <td>0.070295</td>\n",
       "      <td>0.032715</td>\n",
       "      <td>0.085279</td>\n",
       "      <td>0.000000</td>\n",
       "      <td>0.009645</td>\n",
       "      <td>0.038824</td>\n",
       "      <td>TZA</td>\n",
       "      <td>Sub-Saharan Africa</td>\n",
       "    </tr>\n",
       "    <tr>\n",
       "      <th>2</th>\n",
       "      <td>China</td>\n",
       "      <td>0.527209</td>\n",
       "      <td>0.239328</td>\n",
       "      <td>0.671891</td>\n",
       "      <td>0.436345</td>\n",
       "      <td>0.800917</td>\n",
       "      <td>0.530393</td>\n",
       "      <td>CHN</td>\n",
       "      <td>East Asia &amp; Pacific</td>\n",
       "    </tr>\n",
       "  </tbody>\n",
       "</table>\n",
       "</div>"
      ],
      "text/plain": [
       "          Country Name  IT.NET.USER.P2  NY.GNP.PCAP.PP.CD  SE.SEC.ENRR  \\\n",
       "16             Nigeria        0.234693           0.090098     0.306979   \n",
       "0           Bangladesh        0.120181           0.049335     0.380919   \n",
       "19  Russian Federation        0.789226           0.390483     0.768179   \n",
       "22            Tanzania        0.070295           0.032715     0.085279   \n",
       "2                China        0.527209           0.239328     0.671891   \n",
       "\n",
       "    SE.TER.ENRR  SP.POP.1524.TO.UN     Score Country Code  \\\n",
       "16     0.070523           0.122980  0.159131          NGA   \n",
       "0      0.107520           0.113432  0.131792          BGD   \n",
       "19     0.842584           0.029990  0.503770          RUS   \n",
       "22     0.000000           0.009645  0.038824          TZA   \n",
       "2      0.436345           0.800917  0.530393          CHN   \n",
       "\n",
       "                   Region  \n",
       "16     Sub-Saharan Africa  \n",
       "0              South Asia  \n",
       "19  Europe & Central Asia  \n",
       "22     Sub-Saharan Africa  \n",
       "2     East Asia & Pacific  "
      ]
     },
     "execution_count": 37,
     "metadata": {},
     "output_type": "execute_result"
    }
   ],
   "source": [
    "#Récupérer la région de chaque pays en utilisant 2 jointures avec les deux tables EdStatsData et EdStatsCountry\n",
    "df_data=pd.merge(df_data,EdStatsData[['Country Code','Country Name']].drop_duplicates(),on='Country Name',how='left')\n",
    "df_data=pd.merge(df_data,EdStatsCountry[['Country Code','Region']].drop_duplicates(),on='Country Code', how='left')\n",
    "\n",
    "df_data.sample(5)"
   ]
  },
  {
   "cell_type": "code",
   "execution_count": 38,
   "metadata": {
    "_cell_guid": "fab72d1e-3f40-49f9-97e6-1a9695fc80ba",
    "_uuid": "a3c40062-6c74-4295-84e5-efec06189304",
    "execution": {
     "iopub.execute_input": "2022-10-11T11:16:36.316037Z",
     "iopub.status.busy": "2022-10-11T11:16:36.315463Z",
     "iopub.status.idle": "2022-10-11T11:16:36.568179Z",
     "shell.execute_reply": "2022-10-11T11:16:36.565014Z",
     "shell.execute_reply.started": "2022-10-11T11:16:36.316003Z"
    },
    "jupyter": {
     "outputs_hidden": false
    }
   },
   "outputs": [
    {
     "data": {
      "image/png": "[encoded data removed]",
      "text/plain": [
       "<Figure size 1080x360 with 1 Axes>"
      ]
     },
     "metadata": {
      "needs_background": "light"
     },
     "output_type": "display_data"
    }
   ],
   "source": [
    "###### Les  meilleurs régions selon le score défini\n",
    "df_region=pd.DataFrame(df_data[['Score','Region']])\n",
    "score_region=df_region.groupby('Region')['Score'].mean()\n",
    "plt.figure(figsize=(15, 5))\n",
    "score_region.sort_values(ascending=False).plot.bar()\n",
    "plt.title('Score',fontsize=15)\n",
    "plt.tight_layout()"
   ]
  },
  {
   "cell_type": "markdown",
   "metadata": {
    "_cell_guid": "3d54170e-b010-41c3-93a8-6d0f5ab9d936",
    "_uuid": "0c649970-c19f-45cb-97cf-ba0cf4d441d4"
   },
   "source": []
  },
  {
   "cell_type": "markdown",
   "metadata": {
    "_cell_guid": "1a221090-27f4-498f-8b09-421b8c5f2378",
    "_uuid": "a8e09e5a-55b4-4d07-b6a3-91f533ca1f53"
   },
   "source": [
    "# 5.   **Evolution du potentiel de clients**"
   ]
  },
  {
   "cell_type": "code",
   "execution_count": 39,
   "metadata": {
    "_cell_guid": "02ac6763-e245-418c-9a7e-43ce4c0b615d",
    "_uuid": "82011465-d3dd-44bc-ac57-5a5959dcf3a1",
    "execution": {
     "iopub.execute_input": "2022-10-11T11:16:36.572306Z",
     "iopub.status.busy": "2022-10-11T11:16:36.571804Z",
     "iopub.status.idle": "2022-10-11T11:16:38.051880Z",
     "shell.execute_reply": "2022-10-11T11:16:38.050387Z",
     "shell.execute_reply.started": "2022-10-11T11:16:36.572260Z"
    },
    "jupyter": {
     "outputs_hidden": false
    }
   },
   "outputs": [
    {
     "name": "stdout",
     "output_type": "stream",
     "text": [
      "-------------------------------------------------------Internet---------------------------------------------------------------------------------------\n"
     ]
    },
    {
     "data": {
      "image/png": "[encoded data removed]",
      "text/plain": [
       "<Figure size 1080x360 with 1 Axes>"
      ]
     },
     "metadata": {
      "needs_background": "light"
     },
     "output_type": "display_data"
    },
    {
     "name": "stdout",
     "output_type": "stream",
     "text": [
      "-------------------------------------------------------Richesse---------------------------------------------------------------------------------------\n"
     ]
    },
    {
     "data": {
      "image/png": "[encoded data removed]",
      "text/plain": [
       "<Figure size 1080x360 with 1 Axes>"
      ]
     },
     "metadata": {
      "needs_background": "light"
     },
     "output_type": "display_data"
    },
    {
     "name": "stdout",
     "output_type": "stream",
     "text": [
      "-------------------------------------------------------Lycéens---------------------------------------------------------------------------------------\n"
     ]
    },
    {
     "data": {
      "image/png": "[encoded data removed]",
      "text/plain": [
       "<Figure size 1080x360 with 1 Axes>"
      ]
     },
     "metadata": {
      "needs_background": "light"
     },
     "output_type": "display_data"
    },
    {
     "name": "stdout",
     "output_type": "stream",
     "text": [
      "-------------------------------------------------------Etudiants---------------------------------------------------------------------------------------\n"
     ]
    },
    {
     "data": {
      "image/png": "[encoded data removed]",
      "text/plain": [
       "<Figure size 1080x360 with 1 Axes>"
      ]
     },
     "metadata": {
      "needs_background": "light"
     },
     "output_type": "display_data"
    },
    {
     "name": "stdout",
     "output_type": "stream",
     "text": [
      "-------------------------------------------------------Population_15_24---------------------------------------------------------------------------------------\n"
     ]
    },
    {
     "data": {
      "image/png": "[encoded data removed]",
      "text/plain": [
       "<Figure size 1080x360 with 1 Axes>"
      ]
     },
     "metadata": {
      "needs_background": "light"
     },
     "output_type": "display_data"
    }
   ],
   "source": [
    "\n",
    "for ind in liste_nom_indicateurs_finale:\n",
    "    print('-------------------------------------------------------' + ind + '---------------------------------------------------------------------------------------')\n",
    "    fig = plt.figure(1, figsize=(15, 5))\n",
    "    plt.title(\"Evolution du Potentiel de clients par pays suivant l'indicateur : \" + ind)\n",
    "    df_temp = df_data2[df_data2['Country Name'].isin(meilleurs_clients) & (df_data2['Indicator Code']==liste_code_indicateurs_finale[liste_nom_indicateurs_finale.index(ind)])]\n",
    "    del df_temp['Indicator Code']\n",
    "    del df_temp['Country Code']\n",
    "    del df_temp['Indicator Name']\n",
    "    del df_temp['Taux_remplissage']\n",
    "    del df_temp['Long definition']\n",
    "    df_temp.set_index('Country Name',inplace = True)\n",
    "    j=0\n",
    "    for pays in df_temp.index.tolist():\n",
    "        df_temp.iloc[j,:].plot()\n",
    "        j=j+1\n",
    "    plt.legend(df_temp.index.tolist(), loc = 'center left')\n",
    "    plt.xticks(rotation=45)\n",
    "    plt.show();"
   ]
  },
  {
   "cell_type": "code",
   "execution_count": 40,
   "metadata": {
    "_cell_guid": "873b3ce3-b00e-479b-9d4e-3bc2c30b29fc",
    "_uuid": "443d1b6a-ef89-4294-a86f-5806a460e969",
    "execution": {
     "iopub.execute_input": "2022-10-11T11:16:38.057182Z",
     "iopub.status.busy": "2022-10-11T11:16:38.056746Z",
     "iopub.status.idle": "2022-10-11T11:16:38.412541Z",
     "shell.execute_reply": "2022-10-11T11:16:38.410037Z",
     "shell.execute_reply.started": "2022-10-11T11:16:38.057143Z"
    },
    "jupyter": {
     "outputs_hidden": false
    }
   },
   "outputs": [
    {
     "name": "stdout",
     "output_type": "stream",
     "text": [
      "Aucune valeur exploitable pour notre potentiel clients entre 2020 et 2100\n"
     ]
    }
   ],
   "source": [
    "# Vérifier si les données pour notre potentiel client sur les années 2020-2100 sont exloitables pour faire des prédictions\n",
    "data_2020_2100=EdStatsData[['Country Name', 'Indicator Code','2020','2025','2030','2035','2040','2045','2050','2055', '2060' ,'2065','2070' ,'2075','2080','2085','2090','2095','2100']]\n",
    "# Dataframe avec les données de notre potentiel client sur les années 2020-2100 \n",
    "data_2020_2100=data_2020_2100[data_2020_2100['Indicator Code'].isin(liste_code_indicateurs_finale)][data_2020_2100['Country Name'].isin(meilleurs_clients)]\n",
    "data_2020_2100=data_2020_2100.drop(['Country Name', 'Indicator Code'],axis=1)\n",
    "if data_2020_2100.notnull().sum().sum()==0:\n",
    "    print('Aucune valeur exploitable pour notre potentiel clients entre 2020 et 2100')"
   ]
  },
  {
   "cell_type": "markdown",
   "metadata": {
    "_cell_guid": "ef576fb9-b5f9-4c56-87cd-7fcd9e2f87f8",
    "_uuid": "25140f7c-66b4-43e4-9b83-e9082617641c"
   },
   "source": [
    "Les données des prochaines années sont nulles, nous pouvons utiliser les séries temporelles pour faire des prédictions"
   ]
  }
 ],
 "metadata": {
  "kernelspec": {
   "display_name": "Python 3 (ipykernel)",
   "language": "python",
   "name": "python3"
  },
  "language_info": {
   "codemirror_mode": {
    "name": "ipython",
    "version": 3
   },
   "file_extension": ".py",
   "mimetype": "text/x-python",
   "name": "python",
   "nbconvert_exporter": "python",
   "pygments_lexer": "ipython3",
   "version": "3.9.13"
  }
 },
 "nbformat": 4,
 "nbformat_minor": 4
}
